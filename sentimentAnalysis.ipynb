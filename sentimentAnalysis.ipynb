{
  "nbformat": 4,
  "nbformat_minor": 0,
  "metadata": {
    "colab": {
      "name": "Untitled8.ipynb",
      "provenance": [],
      "collapsed_sections": []
    },
    "kernelspec": {
      "name": "python3",
      "display_name": "Python 3"
    },
    "language_info": {
      "name": "python"
    }
  },
  "cells": [
    {
      "cell_type": "code",
      "metadata": {
        "id": "EsdfitWBddat"
      },
      "source": [
        "#Import dependencies\n",
        "!pip install emoji\n",
        "import requests\n",
        "import json\n",
        "import pandas as pd\n",
        "import emoji\n",
        "import re\n",
        "import nltk\n",
        "nltk.download('punkt')\n"
      ],
      "execution_count": null,
      "outputs": []
    },
    {
      "cell_type": "code",
      "metadata": {
        "colab": {
          "base_uri": "https://localhost:8080/"
        },
        "id": "kE_HKjYISITc",
        "outputId": "be6d06d3-2881-4940-c086-42fa4ac2d7d9"
      },
      "source": [
        "#Download english stopwords\n",
        "nltk.download('stopwords')"
      ],
      "execution_count": null,
      "outputs": [
        {
          "output_type": "stream",
          "name": "stdout",
          "text": [
            "[nltk_data] Downloading package stopwords to /root/nltk_data...\n",
            "[nltk_data]   Unzipping corpora/stopwords.zip.\n"
          ]
        },
        {
          "output_type": "execute_result",
          "data": {
            "text/plain": [
              "True"
            ]
          },
          "metadata": {},
          "execution_count": 5
        }
      ]
    },
    {
      "cell_type": "code",
      "metadata": {
        "id": "QoiKkHe6NIBc"
      },
      "source": [
        "from nltk.tokenize import word_tokenize\n",
        "from string import punctuation \n",
        "from nltk.corpus import stopwords\n",
        "import numpy as np"
      ],
      "execution_count": null,
      "outputs": []
    },
    {
      "cell_type": "markdown",
      "metadata": {
        "id": "tEd2APuRKAYv"
      },
      "source": [
        "Twitter API Set-up"
      ]
    },
    {
      "cell_type": "code",
      "metadata": {
        "id": "SCYCUgTKdvJ0"
      },
      "source": [
        "bearer_token= ''\n",
        "url = \"https://api.twitter.com/2/tweets/search/recent?query=\"\n",
        "twitter_params = \"youtube%20dislike\"\n",
        "url = url + twitter_params\n",
        "\n",
        "import tweepy,json\n",
        "access_token=\"\"\n",
        "access_token_secret=\"\"\n",
        "consumer_key=\"\"\n",
        "consumer_secret=\"\"\n",
        "auth= tweepy.OAuthHandler(consumer_key,consumer_secret)\n",
        "auth.set_access_token(access_token,access_token_secret)\n",
        "api = tweepy.API(auth)"
      ],
      "execution_count": null,
      "outputs": []
    },
    {
      "cell_type": "markdown",
      "metadata": {
        "id": "UOOSclOsK6lp"
      },
      "source": [
        "Function to remove links, @, usernames and the # in hashtags\n"
      ]
    },
    {
      "cell_type": "code",
      "metadata": {
        "id": "zmLxkHrdMEaV"
      },
      "source": [
        "def clean_tweet(tweet):\n",
        "  stopword = set(stopwords.words('english') + list(punctuation) + ['AT_USER','URL'])\n",
        "  tweet = tweet.lower()\n",
        "  tweet = re.sub('((www\\.[^\\s]+)|(https?://[^\\s]+))', 'URL', tweet)\n",
        "  tweet = re.sub('@[^\\s]+', 'AT_USER', tweet)\n",
        "  tweet = re.sub(r'#([^\\s]+)', r'\\1', tweet)\n",
        "  tweet = nltk.word_tokenize(tweet)\n",
        "  word = [word for word in tweet if word not in stopword]\n",
        "  return \" \".join(word)#' '.join(re.sub(\"(@[A-Za-z0-9]+)|([^0-9A-Za-z \\t])|(\\w+:\\/\\/\\S+)\", \" \", tweet).split())"
      ],
      "execution_count": null,
      "outputs": []
    },
    {
      "cell_type": "code",
      "metadata": {
        "colab": {
          "base_uri": "https://localhost:8080/",
          "height": 35
        },
        "id": "r1Rqdm5I4cmJ",
        "outputId": "fef8484f-5882-4b52-cff9-d52d38361ab2"
      },
      "source": [
        "clean_tweet('This is a tweet')"
      ],
      "execution_count": null,
      "outputs": [
        {
          "output_type": "execute_result",
          "data": {
            "application/vnd.google.colaboratory.intrinsic+json": {
              "type": "string"
            },
            "text/plain": [
              "'tweet'"
            ]
          },
          "metadata": {},
          "execution_count": 16
        }
      ]
    },
    {
      "cell_type": "code",
      "metadata": {
        "id": "xuTJSetZjMu9"
      },
      "source": [
        "def evaluate(polarity):\n",
        "  if polarity >0:\n",
        "    return 'Positive'\n",
        "  else:\n",
        "    return \"negative\""
      ],
      "execution_count": null,
      "outputs": []
    },
    {
      "cell_type": "code",
      "metadata": {
        "colab": {
          "base_uri": "https://localhost:8080/",
          "height": 35
        },
        "id": "01E94oNKMcKo",
        "outputId": "23d2cdfc-24c2-4c36-adf1-167e4034f3b5"
      },
      "source": [
        "import nltk\n",
        "a = clean_tweet(\"greeat @user dsfsf \")\n",
        "a"
      ],
      "execution_count": null,
      "outputs": [
        {
          "output_type": "execute_result",
          "data": {
            "application/vnd.google.colaboratory.intrinsic+json": {
              "type": "string"
            },
            "text/plain": [
              "'greeat dsfsf'"
            ]
          },
          "metadata": {},
          "execution_count": 8
        }
      ]
    },
    {
      "cell_type": "code",
      "metadata": {
        "id": "9BPPxYnfSZ1E"
      },
      "source": [
        "from textblob import TextBlob"
      ],
      "execution_count": null,
      "outputs": []
    },
    {
      "cell_type": "code",
      "metadata": {
        "colab": {
          "base_uri": "https://localhost:8080/"
        },
        "id": "z3cql5Q1S7pl",
        "outputId": "ce340b44-fc3d-4650-f1d1-24c459495b24"
      },
      "source": [
        "TextBlob(\"hate\").sentiment.polarity"
      ],
      "execution_count": null,
      "outputs": [
        {
          "output_type": "execute_result",
          "data": {
            "text/plain": [
              "-0.8"
            ]
          },
          "metadata": {},
          "execution_count": 337
        }
      ]
    },
    {
      "cell_type": "markdown",
      "metadata": {
        "id": "zMben1CmKLK5"
      },
      "source": [
        "Fetch 2000 tweets from Twitter with the keywords YOUTUBE and DISLIKE"
      ]
    },
    {
      "cell_type": "code",
      "metadata": {
        "id": "F8l4dO6BloNh"
      },
      "source": [
        "\n",
        "list2 = []\n",
        "for tweet in tweepy.Cursor(api.search, q='youtube since:2021-11-10', count = 2000, lang='en', full_text=True).items():\n",
        "    list2.append(tweet)\n",
        "    "
      ],
      "execution_count": null,
      "outputs": []
    },
    {
      "cell_type": "markdown",
      "metadata": {
        "id": "JW1v7A8WKSTo"
      },
      "source": [
        "Fix Date to format YY-MM-DD"
      ]
    },
    {
      "cell_type": "code",
      "metadata": {
        "id": "KBwJV-8IDLy4"
      },
      "source": [
        "\"2021\" +list2[0]._json['created_at'][8:10]"
      ],
      "execution_count": null,
      "outputs": []
    },
    {
      "cell_type": "markdown",
      "metadata": {
        "id": "p8MLGUU3Kgzk"
      },
      "source": [
        "Visualize the JSON that is Returned"
      ]
    },
    {
      "cell_type": "code",
      "metadata": {
        "colab": {
          "base_uri": "https://localhost:8080/"
        },
        "id": "JwKn5elPKf6s",
        "outputId": "2b3f198e-9719-4d46-9af1-5fab87326a47"
      },
      "source": [
        "list2[0]._json"
      ],
      "execution_count": null,
      "outputs": [
        {
          "output_type": "execute_result",
          "data": {
            "text/plain": [
              "{'contributors': None,\n",
              " 'coordinates': None,\n",
              " 'created_at': 'Sun Nov 28 19:36:03 +0000 2021',\n",
              " 'entities': {'hashtags': [{'indices': [90, 98], 'text': 'YouTube'},\n",
              "   {'indices': [99, 103], 'text': 'yuh'}],\n",
              "  'symbols': [],\n",
              "  'urls': [],\n",
              "  'user_mentions': []},\n",
              " 'favorite_count': 0,\n",
              " 'favorited': False,\n",
              " 'geo': None,\n",
              " 'id': 1465041821197819920,\n",
              " 'id_str': '1465041821197819920',\n",
              " 'in_reply_to_screen_name': None,\n",
              " 'in_reply_to_status_id': None,\n",
              " 'in_reply_to_status_id_str': None,\n",
              " 'in_reply_to_user_id': None,\n",
              " 'in_reply_to_user_id_str': None,\n",
              " 'is_quote_status': False,\n",
              " 'lang': 'en',\n",
              " 'metadata': {'iso_language_code': 'en', 'result_type': 'recent'},\n",
              " 'place': None,\n",
              " 'retweet_count': 0,\n",
              " 'retweeted': False,\n",
              " 'source': '<a href=\"http://twitter.com/download/iphone\" rel=\"nofollow\">Twitter for iPhone</a>',\n",
              " 'text': 'I think YouTube removed the dislike button because YouTube rewind 2021 is coming soon… :o #YouTube #yuh',\n",
              " 'truncated': False,\n",
              " 'user': {'contributors_enabled': False,\n",
              "  'created_at': 'Thu Mar 19 11:41:14 +0000 2020',\n",
              "  'default_profile': True,\n",
              "  'default_profile_image': False,\n",
              "  'description': 'Sad Sad Sad, NFT  artist.',\n",
              "  'entities': {'description': {'urls': []},\n",
              "   'url': {'urls': [{'display_url': 'opensea.io/accounts/0x138…',\n",
              "      'expanded_url': 'https://opensea.io/accounts/0x138cca9572e7cffd311a21179af5e6640b50ad4b',\n",
              "      'indices': [0, 23],\n",
              "      'url': 'https://t.co/ZhaQyzGfQc'}]}},\n",
              "  'favourites_count': 112,\n",
              "  'follow_request_sent': False,\n",
              "  'followers_count': 114,\n",
              "  'following': False,\n",
              "  'friends_count': 609,\n",
              "  'geo_enabled': False,\n",
              "  'has_extended_profile': False,\n",
              "  'id': 1240604188947726337,\n",
              "  'id_str': '1240604188947726337',\n",
              "  'is_translation_enabled': False,\n",
              "  'is_translator': False,\n",
              "  'lang': None,\n",
              "  'listed_count': 0,\n",
              "  'location': '',\n",
              "  'name': 'Avior',\n",
              "  'notifications': False,\n",
              "  'profile_background_color': 'F5F8FA',\n",
              "  'profile_background_image_url': None,\n",
              "  'profile_background_image_url_https': None,\n",
              "  'profile_background_tile': False,\n",
              "  'profile_banner_url': 'https://pbs.twimg.com/profile_banners/1240604188947726337/1635421756',\n",
              "  'profile_image_url': 'http://pbs.twimg.com/profile_images/1453791511703867393/zPIFM3Wz_normal.jpg',\n",
              "  'profile_image_url_https': 'https://pbs.twimg.com/profile_images/1453791511703867393/zPIFM3Wz_normal.jpg',\n",
              "  'profile_link_color': '1DA1F2',\n",
              "  'profile_sidebar_border_color': 'C0DEED',\n",
              "  'profile_sidebar_fill_color': 'DDEEF6',\n",
              "  'profile_text_color': '333333',\n",
              "  'profile_use_background_image': True,\n",
              "  'protected': False,\n",
              "  'screen_name': 'SadBoyAvior',\n",
              "  'statuses_count': 525,\n",
              "  'time_zone': None,\n",
              "  'translator_type': 'none',\n",
              "  'url': 'https://t.co/ZhaQyzGfQc',\n",
              "  'utc_offset': None,\n",
              "  'verified': False,\n",
              "  'withheld_in_countries': []}}"
            ]
          },
          "metadata": {},
          "execution_count": 248
        }
      ]
    },
    {
      "cell_type": "markdown",
      "metadata": {
        "id": "iKsd0PXmKazt"
      },
      "source": [
        "Make columns for dataframe from the JSON returned"
      ]
    },
    {
      "cell_type": "code",
      "metadata": {
        "id": "-OA9czPEEhHg"
      },
      "source": [
        "NameList = []\n",
        "tweets = []\n",
        "likes = []\n",
        "date = []\n",
        "for i in range(0,2000):\n",
        "  NameList.append(list2[i]._json['user']['name'])\n",
        "  tweets.append(emoji.demojize(list2[i]._json['text'], delimiters=(\"\", \"\")).replace(\"_\", \" \"))\n",
        "  likes.append(list2[i]._json['favorite_count'])\n",
        "  date.append(\"2021-11-\" + list2[i]._json['created_at'][8:10])"
      ],
      "execution_count": null,
      "outputs": []
    },
    {
      "cell_type": "markdown",
      "metadata": {
        "id": "1DMYyhE8KpcJ"
      },
      "source": [
        "Creating a dataframe of the tweets\n"
      ]
    },
    {
      "cell_type": "code",
      "metadata": {
        "id": "EBuLRJuUEEhE"
      },
      "source": [
        "d = {\n",
        "    'Username': NameList,\n",
        "    'Tweet': tweets,\n",
        "     'Date': date,\n",
        "     'Likes': likes,\n",
        "}\n",
        "df = pd.DataFrame(data=d)\n"
      ],
      "execution_count": null,
      "outputs": []
    },
    {
      "cell_type": "markdown",
      "metadata": {
        "id": "cIoXYKRbKs9h"
      },
      "source": [
        "Drop duplicated of the dataframe"
      ]
    },
    {
      "cell_type": "code",
      "metadata": {
        "id": "DuZjRJidFhs4"
      },
      "source": [
        "df = df.drop_duplicates(subset =\"Tweet\")\n",
        "df = df.reset_index(drop=True)"
      ],
      "execution_count": null,
      "outputs": []
    },
    {
      "cell_type": "code",
      "metadata": {
        "id": "LpbCa9SlKvSo",
        "colab": {
          "base_uri": "https://localhost:8080/",
          "height": 424
        },
        "outputId": "ee84b513-bb62-42ed-e648-25fde4194a96"
      },
      "source": [
        ""
      ],
      "execution_count": null,
      "outputs": [
        {
          "output_type": "execute_result",
          "data": {
            "text/html": [
              "<div>\n",
              "<style scoped>\n",
              "    .dataframe tbody tr th:only-of-type {\n",
              "        vertical-align: middle;\n",
              "    }\n",
              "\n",
              "    .dataframe tbody tr th {\n",
              "        vertical-align: top;\n",
              "    }\n",
              "\n",
              "    .dataframe thead th {\n",
              "        text-align: right;\n",
              "    }\n",
              "</style>\n",
              "<table border=\"1\" class=\"dataframe\">\n",
              "  <thead>\n",
              "    <tr style=\"text-align: right;\">\n",
              "      <th></th>\n",
              "      <th>Unnamed: 0</th>\n",
              "      <th>Username</th>\n",
              "      <th>Tweet</th>\n",
              "      <th>Likes</th>\n",
              "    </tr>\n",
              "  </thead>\n",
              "  <tbody>\n",
              "    <tr>\n",
              "      <th>0</th>\n",
              "      <td>0</td>\n",
              "      <td>Avior</td>\n",
              "      <td>I think YouTube removed the dislike button bec...</td>\n",
              "      <td>0</td>\n",
              "    </tr>\n",
              "    <tr>\n",
              "      <th>1</th>\n",
              "      <td>1</td>\n",
              "      <td>Will I Ain’t</td>\n",
              "      <td>RT @linusgsebastian: Yes I had the dislike cou...</td>\n",
              "      <td>0</td>\n",
              "    </tr>\n",
              "    <tr>\n",
              "      <th>2</th>\n",
              "      <td>2</td>\n",
              "      <td>𝙃𝙊𝙊𝙆𝙎𝙃𝙊𝙏</td>\n",
              "      <td>@YouTube Dislike. Not because of the video</td>\n",
              "      <td>0</td>\n",
              "    </tr>\n",
              "    <tr>\n",
              "      <th>3</th>\n",
              "      <td>3</td>\n",
              "      <td>Franco Contreras</td>\n",
              "      <td>@YouTube you fucked up... The dislike count is...</td>\n",
              "      <td>0</td>\n",
              "    </tr>\n",
              "    <tr>\n",
              "      <th>4</th>\n",
              "      <td>4</td>\n",
              "      <td>Gully</td>\n",
              "      <td>@YouTube could you higher the position of the ...</td>\n",
              "      <td>0</td>\n",
              "    </tr>\n",
              "    <tr>\n",
              "      <th>...</th>\n",
              "      <td>...</td>\n",
              "      <td>...</td>\n",
              "      <td>...</td>\n",
              "      <td>...</td>\n",
              "    </tr>\n",
              "    <tr>\n",
              "      <th>2818</th>\n",
              "      <td>2818</td>\n",
              "      <td>benboy</td>\n",
              "      <td>@YouTube @HenrieVIII @misterjjosephs Let's mak...</td>\n",
              "      <td>28</td>\n",
              "    </tr>\n",
              "    <tr>\n",
              "      <th>2819</th>\n",
              "      <td>2819</td>\n",
              "      <td>Anthony</td>\n",
              "      <td>@rickyberwick @TeamYouTube I need the dislike ...</td>\n",
              "      <td>3</td>\n",
              "    </tr>\n",
              "    <tr>\n",
              "      <th>2820</th>\n",
              "      <td>2820</td>\n",
              "      <td>Virgin</td>\n",
              "      <td>I never really pressed dislike that much but i...</td>\n",
              "      <td>1</td>\n",
              "    </tr>\n",
              "    <tr>\n",
              "      <th>2821</th>\n",
              "      <td>2821</td>\n",
              "      <td>john</td>\n",
              "      <td>Pro 🇪🇹unity YouTube channels like, Hak ena sak...</td>\n",
              "      <td>0</td>\n",
              "    </tr>\n",
              "    <tr>\n",
              "      <th>2822</th>\n",
              "      <td>2822</td>\n",
              "      <td>🏳️‍🌈 Gay Stress Pumpkin 🏳️‍🌈</td>\n",
              "      <td>@YouTube Fuck the stupid shorts, and quit doin...</td>\n",
              "      <td>4</td>\n",
              "    </tr>\n",
              "  </tbody>\n",
              "</table>\n",
              "<p>2823 rows × 4 columns</p>\n",
              "</div>"
            ],
            "text/plain": [
              "      Unnamed: 0  ... Likes\n",
              "0              0  ...     0\n",
              "1              1  ...     0\n",
              "2              2  ...     0\n",
              "3              3  ...     0\n",
              "4              4  ...     0\n",
              "...          ...  ...   ...\n",
              "2818        2818  ...    28\n",
              "2819        2819  ...     3\n",
              "2820        2820  ...     1\n",
              "2821        2821  ...     0\n",
              "2822        2822  ...     4\n",
              "\n",
              "[2823 rows x 4 columns]"
            ]
          },
          "metadata": {},
          "execution_count": 15
        }
      ]
    },
    {
      "cell_type": "markdown",
      "metadata": {
        "id": "EN9wyVhpGS_2"
      },
      "source": [
        "Dataframe"
      ]
    },
    {
      "cell_type": "code",
      "metadata": {
        "colab": {
          "base_uri": "https://localhost:8080/",
          "height": 424
        },
        "id": "hjd8HVnqGAEi",
        "outputId": "a749975d-0174-4216-9d71-4f2a51216d5b"
      },
      "source": [
        "df"
      ],
      "execution_count": null,
      "outputs": [
        {
          "output_type": "execute_result",
          "data": {
            "text/html": [
              "<div>\n",
              "<style scoped>\n",
              "    .dataframe tbody tr th:only-of-type {\n",
              "        vertical-align: middle;\n",
              "    }\n",
              "\n",
              "    .dataframe tbody tr th {\n",
              "        vertical-align: top;\n",
              "    }\n",
              "\n",
              "    .dataframe thead th {\n",
              "        text-align: right;\n",
              "    }\n",
              "</style>\n",
              "<table border=\"1\" class=\"dataframe\">\n",
              "  <thead>\n",
              "    <tr style=\"text-align: right;\">\n",
              "      <th></th>\n",
              "      <th>Username</th>\n",
              "      <th>Tweet</th>\n",
              "      <th>Date</th>\n",
              "      <th>Likes</th>\n",
              "    </tr>\n",
              "  </thead>\n",
              "  <tbody>\n",
              "    <tr>\n",
              "      <th>0</th>\n",
              "      <td>Avior</td>\n",
              "      <td>I think YouTube removed the dislike button bec...</td>\n",
              "      <td>2021-11-28</td>\n",
              "      <td>0</td>\n",
              "    </tr>\n",
              "    <tr>\n",
              "      <th>1</th>\n",
              "      <td>Will I Ain’t</td>\n",
              "      <td>RT @linusgsebastian: Yes I had the dislike cou...</td>\n",
              "      <td>2021-11-28</td>\n",
              "      <td>0</td>\n",
              "    </tr>\n",
              "    <tr>\n",
              "      <th>2</th>\n",
              "      <td>𝙃𝙊𝙊𝙆𝙎𝙃𝙊𝙏</td>\n",
              "      <td>@YouTube Dislike. Not because of the video</td>\n",
              "      <td>2021-11-28</td>\n",
              "      <td>0</td>\n",
              "    </tr>\n",
              "    <tr>\n",
              "      <th>3</th>\n",
              "      <td>Franco Contreras</td>\n",
              "      <td>@YouTube you fucked up... The dislike count is...</td>\n",
              "      <td>2021-11-28</td>\n",
              "      <td>0</td>\n",
              "    </tr>\n",
              "    <tr>\n",
              "      <th>4</th>\n",
              "      <td>Gully</td>\n",
              "      <td>@YouTube could you higher the position of the ...</td>\n",
              "      <td>2021-11-28</td>\n",
              "      <td>0</td>\n",
              "    </tr>\n",
              "    <tr>\n",
              "      <th>...</th>\n",
              "      <td>...</td>\n",
              "      <td>...</td>\n",
              "      <td>...</td>\n",
              "      <td>...</td>\n",
              "    </tr>\n",
              "    <tr>\n",
              "      <th>1058</th>\n",
              "      <td>TWH Hardware</td>\n",
              "      <td>@YouTube Use this comment as a Dislike button!</td>\n",
              "      <td>2021-11-27</td>\n",
              "      <td>3</td>\n",
              "    </tr>\n",
              "    <tr>\n",
              "      <th>1059</th>\n",
              "      <td>JASON🦇🕷🏝</td>\n",
              "      <td>@YouTube Can’t wait to see people getting scam...</td>\n",
              "      <td>2021-11-27</td>\n",
              "      <td>2</td>\n",
              "    </tr>\n",
              "    <tr>\n",
              "      <th>1060</th>\n",
              "      <td>raskovski</td>\n",
              "      <td>@YouTube Bring back dislike button</td>\n",
              "      <td>2021-11-27</td>\n",
              "      <td>0</td>\n",
              "    </tr>\n",
              "    <tr>\n",
              "      <th>1061</th>\n",
              "      <td>LyghtSpeed</td>\n",
              "      <td>@YouTube I think il dislike... oh wait neutral...</td>\n",
              "      <td>2021-11-27</td>\n",
              "      <td>1</td>\n",
              "    </tr>\n",
              "    <tr>\n",
              "      <th>1062</th>\n",
              "      <td>Ali Rezaei Manesh</td>\n",
              "      <td>@YouTube Bring back dislike button + ratio</td>\n",
              "      <td>2021-11-27</td>\n",
              "      <td>0</td>\n",
              "    </tr>\n",
              "  </tbody>\n",
              "</table>\n",
              "<p>1063 rows × 4 columns</p>\n",
              "</div>"
            ],
            "text/plain": [
              "               Username  ... Likes\n",
              "0                 Avior  ...     0\n",
              "1          Will I Ain’t  ...     0\n",
              "2              𝙃𝙊𝙊𝙆𝙎𝙃𝙊𝙏  ...     0\n",
              "3      Franco Contreras  ...     0\n",
              "4                 Gully  ...     0\n",
              "...                 ...  ...   ...\n",
              "1058       TWH Hardware  ...     3\n",
              "1059           JASON🦇🕷🏝  ...     2\n",
              "1060          raskovski  ...     0\n",
              "1061         LyghtSpeed  ...     1\n",
              "1062  Ali Rezaei Manesh  ...     0\n",
              "\n",
              "[1063 rows x 4 columns]"
            ]
          },
          "metadata": {},
          "execution_count": 402
        }
      ]
    },
    {
      "cell_type": "code",
      "metadata": {
        "colab": {
          "base_uri": "https://localhost:8080/",
          "height": 17
        },
        "id": "kpOnQRf0IEUd",
        "outputId": "375dab41-3a88-49f9-c561-536c4c3fbc4b"
      },
      "source": [
        "#download the dataframe as a csv file\n",
        "from google.colab import files\n",
        "\n",
        "df.to_csv('df.csv')\n",
        "files.download('df.csv')"
      ],
      "execution_count": null,
      "outputs": [
        {
          "output_type": "display_data",
          "data": {
            "application/javascript": [
              "\n",
              "    async function download(id, filename, size) {\n",
              "      if (!google.colab.kernel.accessAllowed) {\n",
              "        return;\n",
              "      }\n",
              "      const div = document.createElement('div');\n",
              "      const label = document.createElement('label');\n",
              "      label.textContent = `Downloading \"${filename}\": `;\n",
              "      div.appendChild(label);\n",
              "      const progress = document.createElement('progress');\n",
              "      progress.max = size;\n",
              "      div.appendChild(progress);\n",
              "      document.body.appendChild(div);\n",
              "\n",
              "      const buffers = [];\n",
              "      let downloaded = 0;\n",
              "\n",
              "      const channel = await google.colab.kernel.comms.open(id);\n",
              "      // Send a message to notify the kernel that we're ready.\n",
              "      channel.send({})\n",
              "\n",
              "      for await (const message of channel.messages) {\n",
              "        // Send a message to notify the kernel that we're ready.\n",
              "        channel.send({})\n",
              "        if (message.buffers) {\n",
              "          for (const buffer of message.buffers) {\n",
              "            buffers.push(buffer);\n",
              "            downloaded += buffer.byteLength;\n",
              "            progress.value = downloaded;\n",
              "          }\n",
              "        }\n",
              "      }\n",
              "      const blob = new Blob(buffers, {type: 'application/binary'});\n",
              "      const a = document.createElement('a');\n",
              "      a.href = window.URL.createObjectURL(blob);\n",
              "      a.download = filename;\n",
              "      div.appendChild(a);\n",
              "      a.click();\n",
              "      div.remove();\n",
              "    }\n",
              "  "
            ],
            "text/plain": [
              "<IPython.core.display.Javascript object>"
            ]
          },
          "metadata": {}
        },
        {
          "output_type": "display_data",
          "data": {
            "application/javascript": [
              "download(\"download_2fea64a1-330d-4c21-839b-a7daf3955be6\", \"df.csv\", 147462)"
            ],
            "text/plain": [
              "<IPython.core.display.Javascript object>"
            ]
          },
          "metadata": {}
        }
      ]
    },
    {
      "cell_type": "code",
      "metadata": {
        "colab": {
          "base_uri": "https://localhost:8080/"
        },
        "id": "Gi9J2H4gJspF",
        "outputId": "cb4a6f5c-0024-4ed4-af91-c065e08ffb96"
      },
      "source": [
        "#mount google drive to import files\n",
        "from google.colab import drive\n",
        "drive.mount(\"/content/gdrive\", force_remount=True)"
      ],
      "execution_count": null,
      "outputs": [
        {
          "output_type": "stream",
          "name": "stdout",
          "text": [
            "Mounted at /content/gdrive\n"
          ]
        }
      ]
    },
    {
      "cell_type": "code",
      "metadata": {
        "id": "Xo3kx2eCIa7C"
      },
      "source": [
        "with open('/content/gdrive/MyDrive/tweet1.json') as json_file:\n",
        "    tweet1JSON = json.load(json_file)\n",
        "\n",
        "with open('/content/gdrive/MyDrive/tweet2.json') as json_file:\n",
        "    tweet2JSON = json.load(json_file)"
      ],
      "execution_count": null,
      "outputs": []
    },
    {
      "cell_type": "code",
      "metadata": {
        "id": "hTX62dEOLScA"
      },
      "source": [
        "tweetJSON = tweet1JSON + tweet2JSON"
      ],
      "execution_count": null,
      "outputs": []
    },
    {
      "cell_type": "code",
      "metadata": {
        "colab": {
          "base_uri": "https://localhost:8080/",
          "height": 35
        },
        "id": "2Dr6xz52MAwI",
        "outputId": "46e3eded-abd9-4b5e-c015-cf4ba2cb6e00"
      },
      "source": [
        "tweetJSON[0]['created_at']"
      ],
      "execution_count": null,
      "outputs": [
        {
          "output_type": "execute_result",
          "data": {
            "application/vnd.google.colaboratory.intrinsic+json": {
              "type": "string"
            },
            "text/plain": [
              "'2021-11-28T08:25:10.000Z'"
            ]
          },
          "metadata": {},
          "execution_count": 404
        }
      ]
    },
    {
      "cell_type": "code",
      "metadata": {
        "id": "LQOfyKMYMJjh"
      },
      "source": [
        "nameList = []\n",
        "tweets = []\n",
        "likes = []\n",
        "tweetDate = []\n",
        "for i in range(0,2373):\n",
        "  nameList.append(tweetJSON[i]['user']['name'])\n",
        "  tweets.append(emoji.demojize(tweetJSON[i]['full_text'], delimiters=(\"\", \"\")).replace(\"_\", \" \"))\n",
        "  likes.append(tweetJSON[i]['favorite_count'])\n",
        "  tweetDate.append(tweetJSON[i]['created_at'][0:10])"
      ],
      "execution_count": null,
      "outputs": []
    },
    {
      "cell_type": "code",
      "metadata": {
        "colab": {
          "base_uri": "https://localhost:8080/"
        },
        "id": "swFXDgOFMlqy",
        "outputId": "1ffdc5d4-c0c3-4428-e504-1c85782f3786"
      },
      "source": [
        "len(nameList)"
      ],
      "execution_count": null,
      "outputs": [
        {
          "output_type": "execute_result",
          "data": {
            "text/plain": [
              "2373"
            ]
          },
          "metadata": {},
          "execution_count": 406
        }
      ]
    },
    {
      "cell_type": "code",
      "metadata": {
        "id": "IrlGl2mOMcVH"
      },
      "source": [
        "d = {\n",
        "    'Username': nameList,\n",
        "    'Tweet': tweets,\n",
        "     'Date': tweetDate,\n",
        "     'Likes': likes\n",
        "}\n",
        "df2 = pd.DataFrame(data=d)"
      ],
      "execution_count": null,
      "outputs": []
    },
    {
      "cell_type": "code",
      "metadata": {
        "colab": {
          "base_uri": "https://localhost:8080/",
          "height": 424
        },
        "id": "YO2n759lNG-N",
        "outputId": "7714277f-7961-4248-ce4f-b357036efdbc"
      },
      "source": [
        "df2 = df2.drop_duplicates(subset =\"Tweet\")\n",
        "df2 = df2.reset_index(drop=True)\n",
        "df2"
      ],
      "execution_count": null,
      "outputs": [
        {
          "output_type": "execute_result",
          "data": {
            "text/html": [
              "<div>\n",
              "<style scoped>\n",
              "    .dataframe tbody tr th:only-of-type {\n",
              "        vertical-align: middle;\n",
              "    }\n",
              "\n",
              "    .dataframe tbody tr th {\n",
              "        vertical-align: top;\n",
              "    }\n",
              "\n",
              "    .dataframe thead th {\n",
              "        text-align: right;\n",
              "    }\n",
              "</style>\n",
              "<table border=\"1\" class=\"dataframe\">\n",
              "  <thead>\n",
              "    <tr style=\"text-align: right;\">\n",
              "      <th></th>\n",
              "      <th>Username</th>\n",
              "      <th>Tweet</th>\n",
              "      <th>Date</th>\n",
              "      <th>Likes</th>\n",
              "    </tr>\n",
              "  </thead>\n",
              "  <tbody>\n",
              "    <tr>\n",
              "      <th>0</th>\n",
              "      <td>National Cyber Security</td>\n",
              "      <td>YouTube: Bring back dislike counts with these ...</td>\n",
              "      <td>2021-11-28</td>\n",
              "      <td>1</td>\n",
              "    </tr>\n",
              "    <tr>\n",
              "      <th>1</th>\n",
              "      <td>Caesar Traianus Hadrianus</td>\n",
              "      <td>@YouTube Dislike and uninstall app</td>\n",
              "      <td>2021-11-28</td>\n",
              "      <td>0</td>\n",
              "    </tr>\n",
              "    <tr>\n",
              "      <th>2</th>\n",
              "      <td>Kevin Isaac</td>\n",
              "      <td>I really don't like YouTube's decision to remo...</td>\n",
              "      <td>2021-11-28</td>\n",
              "      <td>1</td>\n",
              "    </tr>\n",
              "    <tr>\n",
              "      <th>3</th>\n",
              "      <td>MANDA 🧟‍♀️🦚🍂🔮🎨🐿</td>\n",
              "      <td>@MillieParfait I usually come to see the disli...</td>\n",
              "      <td>2021-11-28</td>\n",
              "      <td>0</td>\n",
              "    </tr>\n",
              "    <tr>\n",
              "      <th>4</th>\n",
              "      <td>out of context hooman</td>\n",
              "      <td>the irony - a platform like twitter needs a di...</td>\n",
              "      <td>2021-11-28</td>\n",
              "      <td>0</td>\n",
              "    </tr>\n",
              "    <tr>\n",
              "      <th>...</th>\n",
              "      <td>...</td>\n",
              "      <td>...</td>\n",
              "      <td>...</td>\n",
              "      <td>...</td>\n",
              "    </tr>\n",
              "    <tr>\n",
              "      <th>2103</th>\n",
              "      <td>benboy</td>\n",
              "      <td>@YouTube @HenrieVIII @misterjjosephs Let's mak...</td>\n",
              "      <td>2021-11-21</td>\n",
              "      <td>28</td>\n",
              "    </tr>\n",
              "    <tr>\n",
              "      <th>2104</th>\n",
              "      <td>Anthony</td>\n",
              "      <td>@rickyberwick @TeamYouTube I need the dislike ...</td>\n",
              "      <td>2021-11-22</td>\n",
              "      <td>3</td>\n",
              "    </tr>\n",
              "    <tr>\n",
              "      <th>2105</th>\n",
              "      <td>Virgin</td>\n",
              "      <td>I never really pressed dislike that much but i...</td>\n",
              "      <td>2021-11-22</td>\n",
              "      <td>1</td>\n",
              "    </tr>\n",
              "    <tr>\n",
              "      <th>2106</th>\n",
              "      <td>john</td>\n",
              "      <td>Pro Ethiopiaunity YouTube channels like, Hak e...</td>\n",
              "      <td>2021-11-23</td>\n",
              "      <td>0</td>\n",
              "    </tr>\n",
              "    <tr>\n",
              "      <th>2107</th>\n",
              "      <td>🏳️‍🌈 Gay Stress Pumpkin 🏳️‍🌈</td>\n",
              "      <td>@YouTube Fuck the stupid shorts, and quit doin...</td>\n",
              "      <td>2021-11-23</td>\n",
              "      <td>4</td>\n",
              "    </tr>\n",
              "  </tbody>\n",
              "</table>\n",
              "<p>2108 rows × 4 columns</p>\n",
              "</div>"
            ],
            "text/plain": [
              "                          Username  ... Likes\n",
              "0          National Cyber Security  ...     1\n",
              "1        Caesar Traianus Hadrianus  ...     0\n",
              "2                      Kevin Isaac  ...     1\n",
              "3                  MANDA 🧟‍♀️🦚🍂🔮🎨🐿  ...     0\n",
              "4            out of context hooman  ...     0\n",
              "...                            ...  ...   ...\n",
              "2103                        benboy  ...    28\n",
              "2104                       Anthony  ...     3\n",
              "2105                        Virgin  ...     1\n",
              "2106                          john  ...     0\n",
              "2107  🏳️‍🌈 Gay Stress Pumpkin 🏳️‍🌈  ...     4\n",
              "\n",
              "[2108 rows x 4 columns]"
            ]
          },
          "metadata": {},
          "execution_count": 408
        }
      ]
    },
    {
      "cell_type": "markdown",
      "metadata": {
        "id": "WQFCfvl8GvGu"
      },
      "source": [
        "**Final Tweets made AFTER youtube announced they removed the dislike button**"
      ]
    },
    {
      "cell_type": "code",
      "metadata": {
        "id": "XTszO2_KN1v-"
      },
      "source": [
        "\n",
        "finalDF = pd.concat([df, df2])"
      ],
      "execution_count": null,
      "outputs": []
    },
    {
      "cell_type": "code",
      "metadata": {
        "colab": {
          "base_uri": "https://localhost:8080/",
          "height": 527
        },
        "id": "Kjom7jBhgBid",
        "outputId": "fe28a9dd-a987-4222-f022-953dd70ac2ff"
      },
      "source": [
        "finalDF=pd.read_csv('gdrive/MyDrive/finalDF.csv')\n",
        "finalDF"
      ],
      "execution_count": null,
      "outputs": [
        {
          "output_type": "execute_result",
          "data": {
            "text/html": [
              "<div>\n",
              "<style scoped>\n",
              "    .dataframe tbody tr th:only-of-type {\n",
              "        vertical-align: middle;\n",
              "    }\n",
              "\n",
              "    .dataframe tbody tr th {\n",
              "        vertical-align: top;\n",
              "    }\n",
              "\n",
              "    .dataframe thead th {\n",
              "        text-align: right;\n",
              "    }\n",
              "</style>\n",
              "<table border=\"1\" class=\"dataframe\">\n",
              "  <thead>\n",
              "    <tr style=\"text-align: right;\">\n",
              "      <th></th>\n",
              "      <th>Unnamed: 0</th>\n",
              "      <th>Username</th>\n",
              "      <th>Tweet</th>\n",
              "      <th>Likes</th>\n",
              "    </tr>\n",
              "  </thead>\n",
              "  <tbody>\n",
              "    <tr>\n",
              "      <th>0</th>\n",
              "      <td>0</td>\n",
              "      <td>Avior</td>\n",
              "      <td>I think YouTube removed the dislike button because YouTube rewind 2021 is coming soon… :o #YouTube #yuh</td>\n",
              "      <td>0</td>\n",
              "    </tr>\n",
              "    <tr>\n",
              "      <th>1</th>\n",
              "      <td>1</td>\n",
              "      <td>Will I Ain’t</td>\n",
              "      <td>RT @linusgsebastian: Yes I had the dislike counter meeting with YouTube.\\n\\nZero ducks were given about my concerns or the ones shared by our…</td>\n",
              "      <td>0</td>\n",
              "    </tr>\n",
              "    <tr>\n",
              "      <th>2</th>\n",
              "      <td>2</td>\n",
              "      <td>𝙃𝙊𝙊𝙆𝙎𝙃𝙊𝙏</td>\n",
              "      <td>@YouTube Dislike. Not because of the video</td>\n",
              "      <td>0</td>\n",
              "    </tr>\n",
              "    <tr>\n",
              "      <th>3</th>\n",
              "      <td>3</td>\n",
              "      <td>Franco Contreras</td>\n",
              "      <td>@YouTube you fucked up... The dislike count is necessary!</td>\n",
              "      <td>0</td>\n",
              "    </tr>\n",
              "    <tr>\n",
              "      <th>4</th>\n",
              "      <td>4</td>\n",
              "      <td>Gully</td>\n",
              "      <td>@YouTube could you higher the position of the like/dislike buttons again?</td>\n",
              "      <td>0</td>\n",
              "    </tr>\n",
              "    <tr>\n",
              "      <th>...</th>\n",
              "      <td>...</td>\n",
              "      <td>...</td>\n",
              "      <td>...</td>\n",
              "      <td>...</td>\n",
              "    </tr>\n",
              "    <tr>\n",
              "      <th>2818</th>\n",
              "      <td>2818</td>\n",
              "      <td>benboy</td>\n",
              "      <td>@YouTube @HenrieVIII @misterjjosephs Let's make it standard practice to leave a pinned comment on videos that acts as the dislike counter. Liking the comment = dislike</td>\n",
              "      <td>28</td>\n",
              "    </tr>\n",
              "    <tr>\n",
              "      <th>2819</th>\n",
              "      <td>2819</td>\n",
              "      <td>Anthony</td>\n",
              "      <td>@rickyberwick @TeamYouTube I need the dislike button so I can see whether a review or a how to video is bad. Now I can’t tell and might be using a method that’s ineffective. Fuck YouTube for just making pointless changes that do nothing. Hopefully they change their mind</td>\n",
              "      <td>3</td>\n",
              "    </tr>\n",
              "    <tr>\n",
              "      <th>2820</th>\n",
              "      <td>2820</td>\n",
              "      <td>Virgin</td>\n",
              "      <td>I never really pressed dislike that much but its a fucking disgrace that youtube has gotten rid of it. Fuck you greedy fucking cunt bags @youtube you don't care about \"harassment\" or \"bullying\" all you care about is the money.</td>\n",
              "      <td>1</td>\n",
              "    </tr>\n",
              "    <tr>\n",
              "      <th>2821</th>\n",
              "      <td>2821</td>\n",
              "      <td>john</td>\n",
              "      <td>Pro 🇪🇹unity YouTube channels like, Hak ena sak,Dere news,ESAT,Fana, AMC,Addis media,Mereja today, Andafta,Key Tube, mehal Mesa,.. never experienced any dislike 👎 from Tplf supporters I z past few days.Very unusual! A coordinated silence.@Abe_tokichaw @mamamesay #mehalmeda</td>\n",
              "      <td>0</td>\n",
              "    </tr>\n",
              "    <tr>\n",
              "      <th>2822</th>\n",
              "      <td>2822</td>\n",
              "      <td>🏳️‍🌈 Gay Stress Pumpkin 🏳️‍🌈</td>\n",
              "      <td>@YouTube Fuck the stupid shorts, and quit doing things to fuck up your platform. Bring back the like/dislike ratio so I can know if a tutorial or informational video is trash without having to go through comments or waste my time watching it and double checking everything the person says.</td>\n",
              "      <td>4</td>\n",
              "    </tr>\n",
              "  </tbody>\n",
              "</table>\n",
              "<p>2823 rows × 4 columns</p>\n",
              "</div>"
            ],
            "text/plain": [
              "      Unnamed: 0  ... Likes\n",
              "0     0           ...  0   \n",
              "1     1           ...  0   \n",
              "2     2           ...  0   \n",
              "3     3           ...  0   \n",
              "4     4           ...  0   \n",
              "...  ..           ... ..   \n",
              "2818  2818        ...  28  \n",
              "2819  2819        ...  3   \n",
              "2820  2820        ...  1   \n",
              "2821  2821        ...  0   \n",
              "2822  2822        ...  4   \n",
              "\n",
              "[2823 rows x 4 columns]"
            ]
          },
          "metadata": {},
          "execution_count": 145
        }
      ]
    },
    {
      "cell_type": "code",
      "metadata": {
        "colab": {
          "base_uri": "https://localhost:8080/",
          "height": 527
        },
        "id": "N1FwRxpwOBYH",
        "outputId": "c8fc0aa0-6810-4b87-e97a-1cd6b61e4957"
      },
      "source": [
        "finalDF = finalDF.drop_duplicates(subset =\"Tweet\")\n",
        "finalDF = finalDF.reset_index(drop=True)\n",
        "finalDF"
      ],
      "execution_count": null,
      "outputs": [
        {
          "output_type": "execute_result",
          "data": {
            "text/html": [
              "<div>\n",
              "<style scoped>\n",
              "    .dataframe tbody tr th:only-of-type {\n",
              "        vertical-align: middle;\n",
              "    }\n",
              "\n",
              "    .dataframe tbody tr th {\n",
              "        vertical-align: top;\n",
              "    }\n",
              "\n",
              "    .dataframe thead th {\n",
              "        text-align: right;\n",
              "    }\n",
              "</style>\n",
              "<table border=\"1\" class=\"dataframe\">\n",
              "  <thead>\n",
              "    <tr style=\"text-align: right;\">\n",
              "      <th></th>\n",
              "      <th>Unnamed: 0</th>\n",
              "      <th>Username</th>\n",
              "      <th>Tweet</th>\n",
              "      <th>Likes</th>\n",
              "    </tr>\n",
              "  </thead>\n",
              "  <tbody>\n",
              "    <tr>\n",
              "      <th>0</th>\n",
              "      <td>0</td>\n",
              "      <td>Avior</td>\n",
              "      <td>I think YouTube removed the dislike button because YouTube rewind 2021 is coming soon… :o #YouTube #yuh</td>\n",
              "      <td>0</td>\n",
              "    </tr>\n",
              "    <tr>\n",
              "      <th>1</th>\n",
              "      <td>1</td>\n",
              "      <td>Will I Ain’t</td>\n",
              "      <td>RT @linusgsebastian: Yes I had the dislike counter meeting with YouTube.\\n\\nZero ducks were given about my concerns or the ones shared by our…</td>\n",
              "      <td>0</td>\n",
              "    </tr>\n",
              "    <tr>\n",
              "      <th>2</th>\n",
              "      <td>2</td>\n",
              "      <td>𝙃𝙊𝙊𝙆𝙎𝙃𝙊𝙏</td>\n",
              "      <td>@YouTube Dislike. Not because of the video</td>\n",
              "      <td>0</td>\n",
              "    </tr>\n",
              "    <tr>\n",
              "      <th>3</th>\n",
              "      <td>3</td>\n",
              "      <td>Franco Contreras</td>\n",
              "      <td>@YouTube you fucked up... The dislike count is necessary!</td>\n",
              "      <td>0</td>\n",
              "    </tr>\n",
              "    <tr>\n",
              "      <th>4</th>\n",
              "      <td>4</td>\n",
              "      <td>Gully</td>\n",
              "      <td>@YouTube could you higher the position of the like/dislike buttons again?</td>\n",
              "      <td>0</td>\n",
              "    </tr>\n",
              "    <tr>\n",
              "      <th>...</th>\n",
              "      <td>...</td>\n",
              "      <td>...</td>\n",
              "      <td>...</td>\n",
              "      <td>...</td>\n",
              "    </tr>\n",
              "    <tr>\n",
              "      <th>2818</th>\n",
              "      <td>2818</td>\n",
              "      <td>benboy</td>\n",
              "      <td>@YouTube @HenrieVIII @misterjjosephs Let's make it standard practice to leave a pinned comment on videos that acts as the dislike counter. Liking the comment = dislike</td>\n",
              "      <td>28</td>\n",
              "    </tr>\n",
              "    <tr>\n",
              "      <th>2819</th>\n",
              "      <td>2819</td>\n",
              "      <td>Anthony</td>\n",
              "      <td>@rickyberwick @TeamYouTube I need the dislike button so I can see whether a review or a how to video is bad. Now I can’t tell and might be using a method that’s ineffective. Fuck YouTube for just making pointless changes that do nothing. Hopefully they change their mind</td>\n",
              "      <td>3</td>\n",
              "    </tr>\n",
              "    <tr>\n",
              "      <th>2820</th>\n",
              "      <td>2820</td>\n",
              "      <td>Virgin</td>\n",
              "      <td>I never really pressed dislike that much but its a fucking disgrace that youtube has gotten rid of it. Fuck you greedy fucking cunt bags @youtube you don't care about \"harassment\" or \"bullying\" all you care about is the money.</td>\n",
              "      <td>1</td>\n",
              "    </tr>\n",
              "    <tr>\n",
              "      <th>2821</th>\n",
              "      <td>2821</td>\n",
              "      <td>john</td>\n",
              "      <td>Pro 🇪🇹unity YouTube channels like, Hak ena sak,Dere news,ESAT,Fana, AMC,Addis media,Mereja today, Andafta,Key Tube, mehal Mesa,.. never experienced any dislike 👎 from Tplf supporters I z past few days.Very unusual! A coordinated silence.@Abe_tokichaw @mamamesay #mehalmeda</td>\n",
              "      <td>0</td>\n",
              "    </tr>\n",
              "    <tr>\n",
              "      <th>2822</th>\n",
              "      <td>2822</td>\n",
              "      <td>🏳️‍🌈 Gay Stress Pumpkin 🏳️‍🌈</td>\n",
              "      <td>@YouTube Fuck the stupid shorts, and quit doing things to fuck up your platform. Bring back the like/dislike ratio so I can know if a tutorial or informational video is trash without having to go through comments or waste my time watching it and double checking everything the person says.</td>\n",
              "      <td>4</td>\n",
              "    </tr>\n",
              "  </tbody>\n",
              "</table>\n",
              "<p>2823 rows × 4 columns</p>\n",
              "</div>"
            ],
            "text/plain": [
              "      Unnamed: 0  ... Likes\n",
              "0     0           ...  0   \n",
              "1     1           ...  0   \n",
              "2     2           ...  0   \n",
              "3     3           ...  0   \n",
              "4     4           ...  0   \n",
              "...  ..           ... ..   \n",
              "2818  2818        ...  28  \n",
              "2819  2819        ...  3   \n",
              "2820  2820        ...  1   \n",
              "2821  2821        ...  0   \n",
              "2822  2822        ...  4   \n",
              "\n",
              "[2823 rows x 4 columns]"
            ]
          },
          "metadata": {},
          "execution_count": 45
        }
      ]
    },
    {
      "cell_type": "code",
      "metadata": {
        "id": "6imVXR0iRBqe"
      },
      "source": [
        "finalDF.to_csv('finalDF.csv')\n",
        "files.download('finalDF.csv')"
      ],
      "execution_count": null,
      "outputs": []
    },
    {
      "cell_type": "code",
      "metadata": {
        "id": "hulM7K6N2SY7"
      },
      "source": [
        "with open('/content/gdrive/MyDrive/tweetBefore.json') as json_file:\n",
        "    oldTweets = json.load(json_file)"
      ],
      "execution_count": null,
      "outputs": []
    },
    {
      "cell_type": "code",
      "metadata": {
        "id": "KctlRZ842lYq",
        "colab": {
          "base_uri": "https://localhost:8080/"
        },
        "outputId": "319a5b91-9298-4acc-b9c4-592f8a6343fb"
      },
      "source": [
        "oldTweets[0]"
      ],
      "execution_count": null,
      "outputs": [
        {
          "output_type": "execute_result",
          "data": {
            "text/plain": [
              "{'conversation_id': '1450612313011245058',\n",
              " 'created_at': '2021-10-19T23:58:21.000Z',\n",
              " 'favorite_count': 1,\n",
              " 'full_text': 'I was thinking about starting a YouTube channel!',\n",
              " 'hashtags': [],\n",
              " 'id': '1450612313011245058',\n",
              " 'reply_count': 0,\n",
              " 'retweet_count': 0,\n",
              " 'symbols': [],\n",
              " 'url': 'https://twitter.com/Amanda_NOBYNES/status/1450612313011245058',\n",
              " 'urls': [],\n",
              " 'user': {'advertiser_account_type': 'none',\n",
              "  'blocked_by': None,\n",
              "  'blocking': None,\n",
              "  'business_profile_state': 'none',\n",
              "  'can_dm': None,\n",
              "  'contributors_enabled': False,\n",
              "  'created_at': '2021-08-18T11:59:14.000Z',\n",
              "  'default_profile_image': False,\n",
              "  'description': 'Future RN,BSN/DNP\\U0001fa7a |🇯🇲| IG: lifewithamanda____',\n",
              "  'ext_has_nft_avatar': False,\n",
              "  'fast_followers_count': 0,\n",
              "  'favourites_count': 15643,\n",
              "  'follow_request_sent': None,\n",
              "  'followed_by': None,\n",
              "  'followers_count': 1688,\n",
              "  'following': None,\n",
              "  'friends_count': 941,\n",
              "  'geo_enabled': True,\n",
              "  'has_custom_timelines': False,\n",
              "  'id': 1427963266798702600,\n",
              "  'id_str': '1427963266798702604',\n",
              "  'is_translation_enabled': False,\n",
              "  'is_translator': False,\n",
              "  'lang': None,\n",
              "  'listed_count': 4,\n",
              "  'location': '',\n",
              "  'media_count': 23,\n",
              "  'muting': None,\n",
              "  'name': 'Waikiki🌺',\n",
              "  'normal_followers_count': 1688,\n",
              "  'notifications': None,\n",
              "  'profile_background_color': 'F5F8FA',\n",
              "  'profile_background_image_url': None,\n",
              "  'profile_background_image_url_https': None,\n",
              "  'profile_background_tile': False,\n",
              "  'profile_banner_extensions_sensitive_media_warning': None,\n",
              "  'profile_banner_url': 'https://pbs.twimg.com/profile_banners/1427963266798702604/1636893227',\n",
              "  'profile_image_extensions_sensitive_media_warning': None,\n",
              "  'profile_image_url': 'http://pbs.twimg.com/profile_images/1431753667036782593/Id8HTRcx_normal.jpg',\n",
              "  'profile_image_url_https': 'https://pbs.twimg.com/profile_images/1431753667036782593/Id8HTRcx_normal.jpg',\n",
              "  'profile_sidebar_border_color': 'C0DEED',\n",
              "  'profile_sidebar_fill_color': 'DDEEF6',\n",
              "  'profile_text_color': '333333',\n",
              "  'profile_use_background_image': True,\n",
              "  'protected': False,\n",
              "  'require_some_consent': False,\n",
              "  'screen_name': 'Amanda_NOBYNES',\n",
              "  'statuses_count': 27658,\n",
              "  'time_zone': None,\n",
              "  'translator_type': 'none',\n",
              "  'url': None,\n",
              "  'utc_offset': None,\n",
              "  'verified': False,\n",
              "  'want_retweets': None,\n",
              "  'withheld_in_countries': []},\n",
              " 'user_mentions': []}"
            ]
          },
          "metadata": {},
          "execution_count": 141
        }
      ]
    },
    {
      "cell_type": "code",
      "metadata": {
        "id": "2rfprCKx2SWJ"
      },
      "source": [
        "nameListOld = []\n",
        "tweetsOld = []\n",
        "likesOld = []\n",
        "tweetDateOld = []\n",
        "for i in range(0,2000):\n",
        "  nameListOld.append(oldTweets[i]['user']['name'])\n",
        "  tweetsOld.append(emoji.demojize(oldTweets[i]['full_text'], delimiters=(\"\", \"\")).replace(\"_\", \" \"))\n",
        "  likesOld.append(oldTweets[i]['favorite_count'])\n",
        "  tweetDateOld.append(oldTweets[i]['created_at'][0:10])"
      ],
      "execution_count": null,
      "outputs": []
    },
    {
      "cell_type": "code",
      "metadata": {
        "id": "i5b0XtPD2SPg"
      },
      "source": [
        "d = {\n",
        "    'Username': nameListOld,\n",
        "    'Tweet': tweetsOld,\n",
        "     'Date': tweetDateOld,\n",
        "     'Likes': likesOld\n",
        "}\n",
        "OldDf2 = pd.DataFrame(data=d)"
      ],
      "execution_count": null,
      "outputs": []
    },
    {
      "cell_type": "code",
      "metadata": {
        "colab": {
          "base_uri": "https://localhost:8080/",
          "height": 597
        },
        "id": "Luevg_ST203G",
        "outputId": "f5c9db49-e48f-49fd-a232-dd33705985ac"
      },
      "source": [
        "OldDf2 = OldDf2.drop_duplicates(subset =\"Tweet\")\n",
        "OldDf2 = OldDf2.reset_index(drop=True)\n",
        "\n",
        "OldDf2"
      ],
      "execution_count": null,
      "outputs": [
        {
          "output_type": "execute_result",
          "data": {
            "text/html": [
              "<div>\n",
              "<style scoped>\n",
              "    .dataframe tbody tr th:only-of-type {\n",
              "        vertical-align: middle;\n",
              "    }\n",
              "\n",
              "    .dataframe tbody tr th {\n",
              "        vertical-align: top;\n",
              "    }\n",
              "\n",
              "    .dataframe thead th {\n",
              "        text-align: right;\n",
              "    }\n",
              "</style>\n",
              "<table border=\"1\" class=\"dataframe\">\n",
              "  <thead>\n",
              "    <tr style=\"text-align: right;\">\n",
              "      <th></th>\n",
              "      <th>Username</th>\n",
              "      <th>Tweet</th>\n",
              "      <th>Date</th>\n",
              "      <th>Likes</th>\n",
              "    </tr>\n",
              "  </thead>\n",
              "  <tbody>\n",
              "    <tr>\n",
              "      <th>0</th>\n",
              "      <td>Waikiki🌺</td>\n",
              "      <td>I was thinking about starting a YouTube channel!</td>\n",
              "      <td>2021-10-19</td>\n",
              "      <td>1</td>\n",
              "    </tr>\n",
              "    <tr>\n",
              "      <th>1</th>\n",
              "      <td>𝚂𝚑𝚎𝚗 💫</td>\n",
              "      <td>Why can't lectures be more like informative YouTube videos? So much attractive visuals and a plethora of information and ideas.</td>\n",
              "      <td>2021-10-19</td>\n",
              "      <td>20</td>\n",
              "    </tr>\n",
              "    <tr>\n",
              "      <th>2</th>\n",
              "      <td>Krrazy JJ</td>\n",
              "      <td>Juice can honestly pass Future in Youtube Subscribers soon... 2 mil away</td>\n",
              "      <td>2021-10-19</td>\n",
              "      <td>0</td>\n",
              "    </tr>\n",
              "    <tr>\n",
              "      <th>3</th>\n",
              "      <td>Alan Swanson</td>\n",
              "      <td>.@johncampea @BurnettRM Hey guys I’m just gonna have to not be able to watch your show for three weeks and it’s not because of what you did is because every time I try to open up YouTube I get blasted with thousands of eternal spoilers so I can’t even click on it anymore</td>\n",
              "      <td>2021-10-19</td>\n",
              "      <td>0</td>\n",
              "    </tr>\n",
              "    <tr>\n",
              "      <th>4</th>\n",
              "      <td>Splat</td>\n",
              "      <td>question: did YouTube notify you that I even uploaded a video today?</td>\n",
              "      <td>2021-10-19</td>\n",
              "      <td>0</td>\n",
              "    </tr>\n",
              "    <tr>\n",
              "      <th>...</th>\n",
              "      <td>...</td>\n",
              "      <td>...</td>\n",
              "      <td>...</td>\n",
              "      <td>...</td>\n",
              "    </tr>\n",
              "    <tr>\n",
              "      <th>1988</th>\n",
              "      <td>RSN🐏</td>\n",
              "      <td>If our streaming feed ever stops. Click on our YouTube channel, link in bio.</td>\n",
              "      <td>2021-10-19</td>\n",
              "      <td>0</td>\n",
              "    </tr>\n",
              "    <tr>\n",
              "      <th>1989</th>\n",
              "      <td>Xhep (reject donke return to Melira)</td>\n",
              "      <td>i just saw someone complain on YouTube that the 80s and 90s were better because people nowadays are \"crybabies who get offended over everything\"\\n\\nhumanity has always been crybabies who get offended over everything, the internet's just made them easier to notice</td>\n",
              "      <td>2021-10-19</td>\n",
              "      <td>0</td>\n",
              "    </tr>\n",
              "    <tr>\n",
              "      <th>1990</th>\n",
              "      <td>Arren Baker</td>\n",
              "      <td>I will be launching my new YouTube channel on Monday 25th October and at the moment I have put a video on there featuring Tom Baker and a scene from Revenge of the Cybermen and amazingly one subscriber already, I will put details of what my channel will have later on in week</td>\n",
              "      <td>2021-10-19</td>\n",
              "      <td>17</td>\n",
              "    </tr>\n",
              "    <tr>\n",
              "      <th>1991</th>\n",
              "      <td>I R M I L A Y</td>\n",
              "      <td>I want a camera and YouTube my everyday life with Reign because whew grinning face with sweatloudly crying face</td>\n",
              "      <td>2021-10-19</td>\n",
              "      <td>1</td>\n",
              "    </tr>\n",
              "    <tr>\n",
              "      <th>1992</th>\n",
              "      <td>Kelly Houghton</td>\n",
              "      <td>Should I start a YouTube channel??</td>\n",
              "      <td>2021-10-19</td>\n",
              "      <td>4</td>\n",
              "    </tr>\n",
              "  </tbody>\n",
              "</table>\n",
              "<p>1993 rows × 4 columns</p>\n",
              "</div>"
            ],
            "text/plain": [
              "                                  Username  ... Likes\n",
              "0     Waikiki🌺                              ...  1   \n",
              "1     𝚂𝚑𝚎𝚗 💫                                ...  20  \n",
              "2     Krrazy JJ                             ...  0   \n",
              "3     Alan Swanson                          ...  0   \n",
              "4     Splat                                 ...  0   \n",
              "...     ...                                 ... ..   \n",
              "1988  RSN🐏                                  ...  0   \n",
              "1989  Xhep (reject donke return to Melira)  ...  0   \n",
              "1990  Arren Baker                           ...  17  \n",
              "1991  I R M I L A Y                         ...  1   \n",
              "1992  Kelly Houghton                        ...  4   \n",
              "\n",
              "[1993 rows x 4 columns]"
            ]
          },
          "metadata": {},
          "execution_count": 144
        }
      ]
    },
    {
      "cell_type": "markdown",
      "metadata": {
        "id": "vmV5yktjb7F9"
      },
      "source": [
        "Apply Cleaning to the Tweet column"
      ]
    },
    {
      "cell_type": "code",
      "metadata": {
        "id": "w5HvIYwTaXIr"
      },
      "source": [
        "OldDf2['Tweet'] = OldDf2['Tweet'].apply(clean_tweet)"
      ],
      "execution_count": null,
      "outputs": []
    },
    {
      "cell_type": "code",
      "metadata": {
        "colab": {
          "base_uri": "https://localhost:8080/",
          "height": 424
        },
        "id": "YjZ0sNnVbZwH",
        "outputId": "38e65790-91d0-4a36-9850-2226301f4a34"
      },
      "source": [
        "OldDf2"
      ],
      "execution_count": null,
      "outputs": [
        {
          "output_type": "execute_result",
          "data": {
            "text/html": [
              "<div>\n",
              "<style scoped>\n",
              "    .dataframe tbody tr th:only-of-type {\n",
              "        vertical-align: middle;\n",
              "    }\n",
              "\n",
              "    .dataframe tbody tr th {\n",
              "        vertical-align: top;\n",
              "    }\n",
              "\n",
              "    .dataframe thead th {\n",
              "        text-align: right;\n",
              "    }\n",
              "</style>\n",
              "<table border=\"1\" class=\"dataframe\">\n",
              "  <thead>\n",
              "    <tr style=\"text-align: right;\">\n",
              "      <th></th>\n",
              "      <th>Username</th>\n",
              "      <th>Tweet</th>\n",
              "      <th>Date</th>\n",
              "      <th>Likes</th>\n",
              "    </tr>\n",
              "  </thead>\n",
              "  <tbody>\n",
              "    <tr>\n",
              "      <th>0</th>\n",
              "      <td>Waikiki🌺</td>\n",
              "      <td>thinking starting youtube channel</td>\n",
              "      <td>2021-10-19</td>\n",
              "      <td>1</td>\n",
              "    </tr>\n",
              "    <tr>\n",
              "      <th>1</th>\n",
              "      <td>𝚂𝚑𝚎𝚗 💫</td>\n",
              "      <td>ca n't lectures like informative youtube video...</td>\n",
              "      <td>2021-10-19</td>\n",
              "      <td>20</td>\n",
              "    </tr>\n",
              "    <tr>\n",
              "      <th>2</th>\n",
              "      <td>Krrazy JJ</td>\n",
              "      <td>juice honestly pass future youtube subscribers...</td>\n",
              "      <td>2021-10-19</td>\n",
              "      <td>0</td>\n",
              "    </tr>\n",
              "    <tr>\n",
              "      <th>3</th>\n",
              "      <td>Alan Swanson</td>\n",
              "      <td>.AT_USER hey guys ’ gon na able watch show thr...</td>\n",
              "      <td>2021-10-19</td>\n",
              "      <td>0</td>\n",
              "    </tr>\n",
              "    <tr>\n",
              "      <th>4</th>\n",
              "      <td>Splat</td>\n",
              "      <td>question youtube notify even uploaded video today</td>\n",
              "      <td>2021-10-19</td>\n",
              "      <td>0</td>\n",
              "    </tr>\n",
              "    <tr>\n",
              "      <th>...</th>\n",
              "      <td>...</td>\n",
              "      <td>...</td>\n",
              "      <td>...</td>\n",
              "      <td>...</td>\n",
              "    </tr>\n",
              "    <tr>\n",
              "      <th>1988</th>\n",
              "      <td>RSN🐏</td>\n",
              "      <td>streaming feed ever stops click youtube channe...</td>\n",
              "      <td>2021-10-19</td>\n",
              "      <td>0</td>\n",
              "    </tr>\n",
              "    <tr>\n",
              "      <th>1989</th>\n",
              "      <td>Xhep (reject donke return to Melira)</td>\n",
              "      <td>saw someone complain youtube 80s 90s better pe...</td>\n",
              "      <td>2021-10-19</td>\n",
              "      <td>0</td>\n",
              "    </tr>\n",
              "    <tr>\n",
              "      <th>1990</th>\n",
              "      <td>Arren Baker</td>\n",
              "      <td>launching new youtube channel monday 25th octo...</td>\n",
              "      <td>2021-10-19</td>\n",
              "      <td>17</td>\n",
              "    </tr>\n",
              "    <tr>\n",
              "      <th>1991</th>\n",
              "      <td>I R M I L A Y</td>\n",
              "      <td>want camera youtube everyday life reign whew g...</td>\n",
              "      <td>2021-10-19</td>\n",
              "      <td>1</td>\n",
              "    </tr>\n",
              "    <tr>\n",
              "      <th>1992</th>\n",
              "      <td>Kelly Houghton</td>\n",
              "      <td>start youtube channel</td>\n",
              "      <td>2021-10-19</td>\n",
              "      <td>4</td>\n",
              "    </tr>\n",
              "  </tbody>\n",
              "</table>\n",
              "<p>1993 rows × 4 columns</p>\n",
              "</div>"
            ],
            "text/plain": [
              "                                  Username  ... Likes\n",
              "0                                 Waikiki🌺  ...     1\n",
              "1                                   𝚂𝚑𝚎𝚗 💫  ...    20\n",
              "2                                Krrazy JJ  ...     0\n",
              "3                             Alan Swanson  ...     0\n",
              "4                                    Splat  ...     0\n",
              "...                                    ...  ...   ...\n",
              "1988                                  RSN🐏  ...     0\n",
              "1989  Xhep (reject donke return to Melira)  ...     0\n",
              "1990                           Arren Baker  ...    17\n",
              "1991                         I R M I L A Y  ...     1\n",
              "1992                        Kelly Houghton  ...     4\n",
              "\n",
              "[1993 rows x 4 columns]"
            ]
          },
          "metadata": {},
          "execution_count": 25
        }
      ]
    },
    {
      "cell_type": "code",
      "metadata": {
        "colab": {
          "base_uri": "https://localhost:8080/",
          "height": 527
        },
        "id": "LXpGlmv6205M",
        "outputId": "1b27d524-423f-47a4-f0fe-4a1bf5ff7ed7"
      },
      "source": [
        "finalDF"
      ],
      "execution_count": null,
      "outputs": [
        {
          "output_type": "execute_result",
          "data": {
            "text/html": [
              "<div>\n",
              "<style scoped>\n",
              "    .dataframe tbody tr th:only-of-type {\n",
              "        vertical-align: middle;\n",
              "    }\n",
              "\n",
              "    .dataframe tbody tr th {\n",
              "        vertical-align: top;\n",
              "    }\n",
              "\n",
              "    .dataframe thead th {\n",
              "        text-align: right;\n",
              "    }\n",
              "</style>\n",
              "<table border=\"1\" class=\"dataframe\">\n",
              "  <thead>\n",
              "    <tr style=\"text-align: right;\">\n",
              "      <th></th>\n",
              "      <th>Unnamed: 0</th>\n",
              "      <th>Username</th>\n",
              "      <th>Tweet</th>\n",
              "      <th>Likes</th>\n",
              "    </tr>\n",
              "  </thead>\n",
              "  <tbody>\n",
              "    <tr>\n",
              "      <th>0</th>\n",
              "      <td>0</td>\n",
              "      <td>Avior</td>\n",
              "      <td>I think YouTube removed the dislike button because YouTube rewind 2021 is coming soon… :o #YouTube #yuh</td>\n",
              "      <td>0</td>\n",
              "    </tr>\n",
              "    <tr>\n",
              "      <th>1</th>\n",
              "      <td>1</td>\n",
              "      <td>Will I Ain’t</td>\n",
              "      <td>RT @linusgsebastian: Yes I had the dislike counter meeting with YouTube.\\n\\nZero ducks were given about my concerns or the ones shared by our…</td>\n",
              "      <td>0</td>\n",
              "    </tr>\n",
              "    <tr>\n",
              "      <th>2</th>\n",
              "      <td>2</td>\n",
              "      <td>𝙃𝙊𝙊𝙆𝙎𝙃𝙊𝙏</td>\n",
              "      <td>@YouTube Dislike. Not because of the video</td>\n",
              "      <td>0</td>\n",
              "    </tr>\n",
              "    <tr>\n",
              "      <th>3</th>\n",
              "      <td>3</td>\n",
              "      <td>Franco Contreras</td>\n",
              "      <td>@YouTube you fucked up... The dislike count is necessary!</td>\n",
              "      <td>0</td>\n",
              "    </tr>\n",
              "    <tr>\n",
              "      <th>4</th>\n",
              "      <td>4</td>\n",
              "      <td>Gully</td>\n",
              "      <td>@YouTube could you higher the position of the like/dislike buttons again?</td>\n",
              "      <td>0</td>\n",
              "    </tr>\n",
              "    <tr>\n",
              "      <th>...</th>\n",
              "      <td>...</td>\n",
              "      <td>...</td>\n",
              "      <td>...</td>\n",
              "      <td>...</td>\n",
              "    </tr>\n",
              "    <tr>\n",
              "      <th>2818</th>\n",
              "      <td>2818</td>\n",
              "      <td>benboy</td>\n",
              "      <td>@YouTube @HenrieVIII @misterjjosephs Let's make it standard practice to leave a pinned comment on videos that acts as the dislike counter. Liking the comment = dislike</td>\n",
              "      <td>28</td>\n",
              "    </tr>\n",
              "    <tr>\n",
              "      <th>2819</th>\n",
              "      <td>2819</td>\n",
              "      <td>Anthony</td>\n",
              "      <td>@rickyberwick @TeamYouTube I need the dislike button so I can see whether a review or a how to video is bad. Now I can’t tell and might be using a method that’s ineffective. Fuck YouTube for just making pointless changes that do nothing. Hopefully they change their mind</td>\n",
              "      <td>3</td>\n",
              "    </tr>\n",
              "    <tr>\n",
              "      <th>2820</th>\n",
              "      <td>2820</td>\n",
              "      <td>Virgin</td>\n",
              "      <td>I never really pressed dislike that much but its a fucking disgrace that youtube has gotten rid of it. Fuck you greedy fucking cunt bags @youtube you don't care about \"harassment\" or \"bullying\" all you care about is the money.</td>\n",
              "      <td>1</td>\n",
              "    </tr>\n",
              "    <tr>\n",
              "      <th>2821</th>\n",
              "      <td>2821</td>\n",
              "      <td>john</td>\n",
              "      <td>Pro 🇪🇹unity YouTube channels like, Hak ena sak,Dere news,ESAT,Fana, AMC,Addis media,Mereja today, Andafta,Key Tube, mehal Mesa,.. never experienced any dislike 👎 from Tplf supporters I z past few days.Very unusual! A coordinated silence.@Abe_tokichaw @mamamesay #mehalmeda</td>\n",
              "      <td>0</td>\n",
              "    </tr>\n",
              "    <tr>\n",
              "      <th>2822</th>\n",
              "      <td>2822</td>\n",
              "      <td>🏳️‍🌈 Gay Stress Pumpkin 🏳️‍🌈</td>\n",
              "      <td>@YouTube Fuck the stupid shorts, and quit doing things to fuck up your platform. Bring back the like/dislike ratio so I can know if a tutorial or informational video is trash without having to go through comments or waste my time watching it and double checking everything the person says.</td>\n",
              "      <td>4</td>\n",
              "    </tr>\n",
              "  </tbody>\n",
              "</table>\n",
              "<p>2823 rows × 4 columns</p>\n",
              "</div>"
            ],
            "text/plain": [
              "      Unnamed: 0  ... Likes\n",
              "0     0           ...  0   \n",
              "1     1           ...  0   \n",
              "2     2           ...  0   \n",
              "3     3           ...  0   \n",
              "4     4           ...  0   \n",
              "...  ..           ... ..   \n",
              "2818  2818        ...  28  \n",
              "2819  2819        ...  3   \n",
              "2820  2820        ...  1   \n",
              "2821  2821        ...  0   \n",
              "2822  2822        ...  4   \n",
              "\n",
              "[2823 rows x 4 columns]"
            ]
          },
          "metadata": {},
          "execution_count": 46
        }
      ]
    },
    {
      "cell_type": "code",
      "metadata": {
        "colab": {
          "base_uri": "https://localhost:8080/",
          "height": 475
        },
        "id": "Zcl1uCj9207f",
        "outputId": "0fb8156e-bdc8-4ab6-8919-1a1f7209bf04"
      },
      "source": [
        "finalDF['Tweet'] = finalDF['Tweet'].apply(clean_tweet)\n",
        "finalDF"
      ],
      "execution_count": null,
      "outputs": [
        {
          "output_type": "execute_result",
          "data": {
            "text/html": [
              "<div>\n",
              "<style scoped>\n",
              "    .dataframe tbody tr th:only-of-type {\n",
              "        vertical-align: middle;\n",
              "    }\n",
              "\n",
              "    .dataframe tbody tr th {\n",
              "        vertical-align: top;\n",
              "    }\n",
              "\n",
              "    .dataframe thead th {\n",
              "        text-align: right;\n",
              "    }\n",
              "</style>\n",
              "<table border=\"1\" class=\"dataframe\">\n",
              "  <thead>\n",
              "    <tr style=\"text-align: right;\">\n",
              "      <th></th>\n",
              "      <th>Unnamed: 0</th>\n",
              "      <th>Username</th>\n",
              "      <th>Tweet</th>\n",
              "      <th>Likes</th>\n",
              "    </tr>\n",
              "  </thead>\n",
              "  <tbody>\n",
              "    <tr>\n",
              "      <th>0</th>\n",
              "      <td>0</td>\n",
              "      <td>Avior</td>\n",
              "      <td>think youtube removed dislike button youtube rewind 2021 coming soon… youtube yuh</td>\n",
              "      <td>0</td>\n",
              "    </tr>\n",
              "    <tr>\n",
              "      <th>1</th>\n",
              "      <td>1</td>\n",
              "      <td>Will I Ain’t</td>\n",
              "      <td>rt yes dislike counter meeting youtube zero ducks given concerns ones shared our…</td>\n",
              "      <td>0</td>\n",
              "    </tr>\n",
              "    <tr>\n",
              "      <th>2</th>\n",
              "      <td>2</td>\n",
              "      <td>𝙃𝙊𝙊𝙆𝙎𝙃𝙊𝙏</td>\n",
              "      <td>dislike video</td>\n",
              "      <td>0</td>\n",
              "    </tr>\n",
              "    <tr>\n",
              "      <th>3</th>\n",
              "      <td>3</td>\n",
              "      <td>Franco Contreras</td>\n",
              "      <td>fucked ... dislike count necessary</td>\n",
              "      <td>0</td>\n",
              "    </tr>\n",
              "    <tr>\n",
              "      <th>4</th>\n",
              "      <td>4</td>\n",
              "      <td>Gully</td>\n",
              "      <td>could higher position like/dislike buttons</td>\n",
              "      <td>0</td>\n",
              "    </tr>\n",
              "    <tr>\n",
              "      <th>...</th>\n",
              "      <td>...</td>\n",
              "      <td>...</td>\n",
              "      <td>...</td>\n",
              "      <td>...</td>\n",
              "    </tr>\n",
              "    <tr>\n",
              "      <th>2818</th>\n",
              "      <td>2818</td>\n",
              "      <td>benboy</td>\n",
              "      <td>let 's make standard practice leave pinned comment videos acts dislike counter liking comment dislike</td>\n",
              "      <td>28</td>\n",
              "    </tr>\n",
              "    <tr>\n",
              "      <th>2819</th>\n",
              "      <td>2819</td>\n",
              "      <td>Anthony</td>\n",
              "      <td>need dislike button see whether review video bad ’ tell might using method ’ ineffective fuck youtube making pointless changes nothing hopefully change mind</td>\n",
              "      <td>3</td>\n",
              "    </tr>\n",
              "    <tr>\n",
              "      <th>2820</th>\n",
              "      <td>2820</td>\n",
              "      <td>Virgin</td>\n",
              "      <td>never really pressed dislike much fucking disgrace youtube gotten rid fuck greedy fucking cunt bags n't care `` harassment '' `` bullying '' care money</td>\n",
              "      <td>1</td>\n",
              "    </tr>\n",
              "    <tr>\n",
              "      <th>2821</th>\n",
              "      <td>2821</td>\n",
              "      <td>john</td>\n",
              "      <td>pro 🇪🇹unity youtube channels like hak ena sak dere news esat fana amc addis media mereja today andafta key tube mehal mesa .. never experienced dislike 👎 tplf supporters z past days.very unusual coordinated silence.AT_USER mehalmeda</td>\n",
              "      <td>0</td>\n",
              "    </tr>\n",
              "    <tr>\n",
              "      <th>2822</th>\n",
              "      <td>2822</td>\n",
              "      <td>🏳️‍🌈 Gay Stress Pumpkin 🏳️‍🌈</td>\n",
              "      <td>fuck stupid shorts quit things fuck platform bring back like/dislike ratio know tutorial informational video trash without go comments waste time watching double checking everything person says</td>\n",
              "      <td>4</td>\n",
              "    </tr>\n",
              "  </tbody>\n",
              "</table>\n",
              "<p>2823 rows × 4 columns</p>\n",
              "</div>"
            ],
            "text/plain": [
              "      Unnamed: 0  ... Likes\n",
              "0     0           ...  0   \n",
              "1     1           ...  0   \n",
              "2     2           ...  0   \n",
              "3     3           ...  0   \n",
              "4     4           ...  0   \n",
              "...  ..           ... ..   \n",
              "2818  2818        ...  28  \n",
              "2819  2819        ...  3   \n",
              "2820  2820        ...  1   \n",
              "2821  2821        ...  0   \n",
              "2822  2822        ...  4   \n",
              "\n",
              "[2823 rows x 4 columns]"
            ]
          },
          "metadata": {},
          "execution_count": 47
        }
      ]
    },
    {
      "cell_type": "code",
      "metadata": {
        "colab": {
          "base_uri": "https://localhost:8080/",
          "height": 424
        },
        "id": "0MGBxdX6etaY",
        "outputId": "a5872d33-b40c-4589-e382-d380caf8b1ba"
      },
      "source": [
        "biggerTweets = finalDF.loc[finalDF['Likes'] > 100]\n",
        "\n",
        "biggerTweets = biggerTweets.reset_index(drop=True)\n",
        "biggerTweets"
      ],
      "execution_count": null,
      "outputs": [
        {
          "output_type": "execute_result",
          "data": {
            "text/html": [
              "<div>\n",
              "<style scoped>\n",
              "    .dataframe tbody tr th:only-of-type {\n",
              "        vertical-align: middle;\n",
              "    }\n",
              "\n",
              "    .dataframe tbody tr th {\n",
              "        vertical-align: top;\n",
              "    }\n",
              "\n",
              "    .dataframe thead th {\n",
              "        text-align: right;\n",
              "    }\n",
              "</style>\n",
              "<table border=\"1\" class=\"dataframe\">\n",
              "  <thead>\n",
              "    <tr style=\"text-align: right;\">\n",
              "      <th></th>\n",
              "      <th>Unnamed: 0</th>\n",
              "      <th>Username</th>\n",
              "      <th>Tweet</th>\n",
              "      <th>Likes</th>\n",
              "    </tr>\n",
              "  </thead>\n",
              "  <tbody>\n",
              "    <tr>\n",
              "      <th>0</th>\n",
              "      <td>109</td>\n",
              "      <td>Greg Salazar</td>\n",
              "      <td>important note youtube 's ridiculous removal p...</td>\n",
              "      <td>184</td>\n",
              "    </tr>\n",
              "    <tr>\n",
              "      <th>1</th>\n",
              "      <td>167</td>\n",
              "      <td>𝕹𝖎𝖈𝖍𝖔𝖑𝖆𝖘 𝕯𝖊𝕺𝖗𝖎𝖔</td>\n",
              "      <td>made whole google doc channel getting dislike ...</td>\n",
              "      <td>181</td>\n",
              "    </tr>\n",
              "    <tr>\n",
              "      <th>2</th>\n",
              "      <td>198</td>\n",
              "      <td>Linus LinusMediaGroup</td>\n",
              "      <td>empirical evidence 've seen negative comment b...</td>\n",
              "      <td>188</td>\n",
              "    </tr>\n",
              "    <tr>\n",
              "      <th>3</th>\n",
              "      <td>808</td>\n",
              "      <td>ducking</td>\n",
              "      <td>dislike</td>\n",
              "      <td>124</td>\n",
              "    </tr>\n",
              "    <tr>\n",
              "      <th>4</th>\n",
              "      <td>857</td>\n",
              "      <td>Ace - D2 news n stuff</td>\n",
              "      <td>one days twitter add dislike button youtube ge...</td>\n",
              "      <td>222</td>\n",
              "    </tr>\n",
              "    <tr>\n",
              "      <th>...</th>\n",
              "      <td>...</td>\n",
              "      <td>...</td>\n",
              "      <td>...</td>\n",
              "      <td>...</td>\n",
              "    </tr>\n",
              "    <tr>\n",
              "      <th>94</th>\n",
              "      <td>2716</td>\n",
              "      <td>BATUHAN CANSIN ÖZER</td>\n",
              "      <td>bring back dislike counter without youtube fil...</td>\n",
              "      <td>119</td>\n",
              "    </tr>\n",
              "    <tr>\n",
              "      <th>95</th>\n",
              "      <td>2719</td>\n",
              "      <td>Gaurav Sahu</td>\n",
              "      <td>gt talks balance gt removes dislike numbers ggwp</td>\n",
              "      <td>129</td>\n",
              "    </tr>\n",
              "    <tr>\n",
              "      <th>96</th>\n",
              "      <td>2728</td>\n",
              "      <td>JoltzDude139</td>\n",
              "      <td>'m fan youtube hiding dislikes videos viewers ...</td>\n",
              "      <td>1071</td>\n",
              "    </tr>\n",
              "    <tr>\n",
              "      <th>97</th>\n",
              "      <td>2764</td>\n",
              "      <td>YouTube</td>\n",
              "      <td>let 's celebrate indigenous futures consider l...</td>\n",
              "      <td>1986</td>\n",
              "    </tr>\n",
              "    <tr>\n",
              "      <th>98</th>\n",
              "      <td>2795</td>\n",
              "      <td>Viva Frei</td>\n",
              "      <td>best ratio ever seen perfectly illustrating fa...</td>\n",
              "      <td>9401</td>\n",
              "    </tr>\n",
              "  </tbody>\n",
              "</table>\n",
              "<p>99 rows × 4 columns</p>\n",
              "</div>"
            ],
            "text/plain": [
              "    Unnamed: 0  ... Likes\n",
              "0          109  ...   184\n",
              "1          167  ...   181\n",
              "2          198  ...   188\n",
              "3          808  ...   124\n",
              "4          857  ...   222\n",
              "..         ...  ...   ...\n",
              "94        2716  ...   119\n",
              "95        2719  ...   129\n",
              "96        2728  ...  1071\n",
              "97        2764  ...  1986\n",
              "98        2795  ...  9401\n",
              "\n",
              "[99 rows x 4 columns]"
            ]
          },
          "metadata": {},
          "execution_count": 28
        }
      ]
    },
    {
      "cell_type": "code",
      "metadata": {
        "colab": {
          "base_uri": "https://localhost:8080/",
          "height": 424
        },
        "id": "Y98q5m5NcLmY",
        "outputId": "06caa0c6-9768-4c98-c1bd-7ddaa633b4e7"
      },
      "source": [
        "biggerTweets['Tweet'] = biggerTweets['Tweet'].apply(clean_tweet)\n",
        "biggerTweets"
      ],
      "execution_count": null,
      "outputs": [
        {
          "output_type": "execute_result",
          "data": {
            "text/html": [
              "<div>\n",
              "<style scoped>\n",
              "    .dataframe tbody tr th:only-of-type {\n",
              "        vertical-align: middle;\n",
              "    }\n",
              "\n",
              "    .dataframe tbody tr th {\n",
              "        vertical-align: top;\n",
              "    }\n",
              "\n",
              "    .dataframe thead th {\n",
              "        text-align: right;\n",
              "    }\n",
              "</style>\n",
              "<table border=\"1\" class=\"dataframe\">\n",
              "  <thead>\n",
              "    <tr style=\"text-align: right;\">\n",
              "      <th></th>\n",
              "      <th>Unnamed: 0</th>\n",
              "      <th>Username</th>\n",
              "      <th>Tweet</th>\n",
              "      <th>Likes</th>\n",
              "    </tr>\n",
              "  </thead>\n",
              "  <tbody>\n",
              "    <tr>\n",
              "      <th>0</th>\n",
              "      <td>109</td>\n",
              "      <td>Greg Salazar</td>\n",
              "      <td>important note youtube 's ridiculous removal p...</td>\n",
              "      <td>184</td>\n",
              "    </tr>\n",
              "    <tr>\n",
              "      <th>1</th>\n",
              "      <td>167</td>\n",
              "      <td>𝕹𝖎𝖈𝖍𝖔𝖑𝖆𝖘 𝕯𝖊𝕺𝖗𝖎𝖔</td>\n",
              "      <td>made whole google doc channel getting dislike ...</td>\n",
              "      <td>181</td>\n",
              "    </tr>\n",
              "    <tr>\n",
              "      <th>2</th>\n",
              "      <td>198</td>\n",
              "      <td>Linus LinusMediaGroup</td>\n",
              "      <td>empirical evidence 've seen negative comment b...</td>\n",
              "      <td>188</td>\n",
              "    </tr>\n",
              "    <tr>\n",
              "      <th>3</th>\n",
              "      <td>808</td>\n",
              "      <td>ducking</td>\n",
              "      <td>dislike</td>\n",
              "      <td>124</td>\n",
              "    </tr>\n",
              "    <tr>\n",
              "      <th>4</th>\n",
              "      <td>857</td>\n",
              "      <td>Ace - D2 news n stuff</td>\n",
              "      <td>one days twitter add dislike button youtube ge...</td>\n",
              "      <td>222</td>\n",
              "    </tr>\n",
              "    <tr>\n",
              "      <th>...</th>\n",
              "      <td>...</td>\n",
              "      <td>...</td>\n",
              "      <td>...</td>\n",
              "      <td>...</td>\n",
              "    </tr>\n",
              "    <tr>\n",
              "      <th>94</th>\n",
              "      <td>2716</td>\n",
              "      <td>BATUHAN CANSIN ÖZER</td>\n",
              "      <td>bring back dislike counter without youtube fil...</td>\n",
              "      <td>119</td>\n",
              "    </tr>\n",
              "    <tr>\n",
              "      <th>95</th>\n",
              "      <td>2719</td>\n",
              "      <td>Gaurav Sahu</td>\n",
              "      <td>gt talks balance gt removes dislike numbers ggwp</td>\n",
              "      <td>129</td>\n",
              "    </tr>\n",
              "    <tr>\n",
              "      <th>96</th>\n",
              "      <td>2728</td>\n",
              "      <td>JoltzDude139</td>\n",
              "      <td>'m fan youtube hiding dislikes videos viewers ...</td>\n",
              "      <td>1071</td>\n",
              "    </tr>\n",
              "    <tr>\n",
              "      <th>97</th>\n",
              "      <td>2764</td>\n",
              "      <td>YouTube</td>\n",
              "      <td>let 's celebrate indigenous futures consider l...</td>\n",
              "      <td>1986</td>\n",
              "    </tr>\n",
              "    <tr>\n",
              "      <th>98</th>\n",
              "      <td>2795</td>\n",
              "      <td>Viva Frei</td>\n",
              "      <td>best ratio ever seen perfectly illustrating fa...</td>\n",
              "      <td>9401</td>\n",
              "    </tr>\n",
              "  </tbody>\n",
              "</table>\n",
              "<p>99 rows × 4 columns</p>\n",
              "</div>"
            ],
            "text/plain": [
              "    Unnamed: 0  ... Likes\n",
              "0          109  ...   184\n",
              "1          167  ...   181\n",
              "2          198  ...   188\n",
              "3          808  ...   124\n",
              "4          857  ...   222\n",
              "..         ...  ...   ...\n",
              "94        2716  ...   119\n",
              "95        2719  ...   129\n",
              "96        2728  ...  1071\n",
              "97        2764  ...  1986\n",
              "98        2795  ...  9401\n",
              "\n",
              "[99 rows x 4 columns]"
            ]
          },
          "metadata": {},
          "execution_count": 29
        }
      ]
    },
    {
      "cell_type": "code",
      "metadata": {
        "colab": {
          "base_uri": "https://localhost:8080/",
          "height": 17
        },
        "id": "tDac8M8J5UoZ",
        "outputId": "55e65034-61b4-491e-ec9b-b78fc48febd7"
      },
      "source": [
        "from google.colab import files\n",
        "\n",
        "biggerTweets.to_csv('biggerTweets.csv')\n",
        "files.download('biggerTweets.csv')"
      ],
      "execution_count": null,
      "outputs": [
        {
          "output_type": "display_data",
          "data": {
            "application/javascript": [
              "\n",
              "    async function download(id, filename, size) {\n",
              "      if (!google.colab.kernel.accessAllowed) {\n",
              "        return;\n",
              "      }\n",
              "      const div = document.createElement('div');\n",
              "      const label = document.createElement('label');\n",
              "      label.textContent = `Downloading \"${filename}\": `;\n",
              "      div.appendChild(label);\n",
              "      const progress = document.createElement('progress');\n",
              "      progress.max = size;\n",
              "      div.appendChild(progress);\n",
              "      document.body.appendChild(div);\n",
              "\n",
              "      const buffers = [];\n",
              "      let downloaded = 0;\n",
              "\n",
              "      const channel = await google.colab.kernel.comms.open(id);\n",
              "      // Send a message to notify the kernel that we're ready.\n",
              "      channel.send({})\n",
              "\n",
              "      for await (const message of channel.messages) {\n",
              "        // Send a message to notify the kernel that we're ready.\n",
              "        channel.send({})\n",
              "        if (message.buffers) {\n",
              "          for (const buffer of message.buffers) {\n",
              "            buffers.push(buffer);\n",
              "            downloaded += buffer.byteLength;\n",
              "            progress.value = downloaded;\n",
              "          }\n",
              "        }\n",
              "      }\n",
              "      const blob = new Blob(buffers, {type: 'application/binary'});\n",
              "      const a = document.createElement('a');\n",
              "      a.href = window.URL.createObjectURL(blob);\n",
              "      a.download = filename;\n",
              "      div.appendChild(a);\n",
              "      a.click();\n",
              "      div.remove();\n",
              "    }\n",
              "  "
            ],
            "text/plain": [
              "<IPython.core.display.Javascript object>"
            ]
          },
          "metadata": {}
        },
        {
          "output_type": "display_data",
          "data": {
            "application/javascript": [
              "download(\"download_42efce33-44b4-4ab7-bcea-ee53042e6ab8\", \"biggerTweets.csv\", 16130)"
            ],
            "text/plain": [
              "<IPython.core.display.Javascript object>"
            ]
          },
          "metadata": {}
        }
      ]
    },
    {
      "cell_type": "code",
      "metadata": {
        "id": "7ZsbfrA2za2T"
      },
      "source": [
        "sizeBefore = len(OldDf2)\n",
        "sizeAfter = len(finalDF)\n",
        "sizeBig = len(biggerTweets)\n",
        "totalTweets = sizeBefore + sizeAfter + sizeBig"
      ],
      "execution_count": null,
      "outputs": []
    },
    {
      "cell_type": "code",
      "metadata": {
        "colab": {
          "base_uri": "https://localhost:8080/",
          "height": 540
        },
        "id": "EDTA18TpPTGb",
        "outputId": "0ef04aa3-4880-4e02-a5ae-894c652aec07"
      },
      "source": [
        "import matplotlib.pyplot as plt\n",
        "fig, ax = plt.subplots()\n",
        "label = [\"before\",\"after\", \"big tweets\", \"Total\"]\n",
        "frequency = [sizeBefore, sizeAfter, sizeBig, totalTweets]\n",
        "ax.bar(label, frequency)\n",
        "fig.suptitle('Frequency of the tweets scraped', fontsize=16)\n",
        "plt.show()"
      ],
      "execution_count": null,
      "outputs": [
        {
          "output_type": "display_data",
          "data": {
            "image/png": "[encoded data removed]",
            "text/plain": [
              "<Figure size 720x576 with 1 Axes>"
            ]
          },
          "metadata": {
            "needs_background": "light"
          }
        }
      ]
    },
    {
      "cell_type": "markdown",
      "metadata": {
        "id": "YicC8QjncgTX"
      },
      "source": [
        "Apply sentiment analysis to all Tweets"
      ]
    },
    {
      "cell_type": "code",
      "metadata": {
        "colab": {
          "base_uri": "https://localhost:8080/",
          "height": 424
        },
        "id": "DsyGeNVGZY9j",
        "outputId": "da0bb4c9-7ea4-4aa5-e908-b9e6311b118d"
      },
      "source": [
        "biggerTweets['polarity'] = biggerTweets['Tweet'].apply(lambda x: TextBlob(x).sentiment.polarity-0.3)\n",
        "biggerTweets['subjectivity'] = biggerTweets['Tweet'].apply(lambda x: TextBlob(x).sentiment.subjectivity-0.3)\n",
        "biggerTweets['Sentiment'] = biggerTweets['polarity'].apply(lambda x: evaluate(x))\n",
        "biggerTweets"
      ],
      "execution_count": null,
      "outputs": [
        {
          "output_type": "execute_result",
          "data": {
            "text/html": [
              "<div>\n",
              "<style scoped>\n",
              "    .dataframe tbody tr th:only-of-type {\n",
              "        vertical-align: middle;\n",
              "    }\n",
              "\n",
              "    .dataframe tbody tr th {\n",
              "        vertical-align: top;\n",
              "    }\n",
              "\n",
              "    .dataframe thead th {\n",
              "        text-align: right;\n",
              "    }\n",
              "</style>\n",
              "<table border=\"1\" class=\"dataframe\">\n",
              "  <thead>\n",
              "    <tr style=\"text-align: right;\">\n",
              "      <th></th>\n",
              "      <th>Unnamed: 0</th>\n",
              "      <th>Username</th>\n",
              "      <th>Tweet</th>\n",
              "      <th>Likes</th>\n",
              "      <th>polarity</th>\n",
              "      <th>subjectivity</th>\n",
              "      <th>Sentiment</th>\n",
              "    </tr>\n",
              "  </thead>\n",
              "  <tbody>\n",
              "    <tr>\n",
              "      <th>0</th>\n",
              "      <td>109</td>\n",
              "      <td>Greg Salazar</td>\n",
              "      <td>important note youtube 's ridiculous removal p...</td>\n",
              "      <td>184</td>\n",
              "      <td>-0.277778</td>\n",
              "      <td>0.388889</td>\n",
              "      <td>negative</td>\n",
              "    </tr>\n",
              "    <tr>\n",
              "      <th>1</th>\n",
              "      <td>167</td>\n",
              "      <td>𝕹𝖎𝖈𝖍𝖔𝖑𝖆𝖘 𝕯𝖊𝕺𝖗𝖎𝖔</td>\n",
              "      <td>made whole google doc channel getting dislike ...</td>\n",
              "      <td>181</td>\n",
              "      <td>-0.233333</td>\n",
              "      <td>-0.125000</td>\n",
              "      <td>negative</td>\n",
              "    </tr>\n",
              "    <tr>\n",
              "      <th>2</th>\n",
              "      <td>198</td>\n",
              "      <td>Linus LinusMediaGroup</td>\n",
              "      <td>empirical evidence 've seen negative comment b...</td>\n",
              "      <td>188</td>\n",
              "      <td>-0.200000</td>\n",
              "      <td>0.033333</td>\n",
              "      <td>negative</td>\n",
              "    </tr>\n",
              "    <tr>\n",
              "      <th>3</th>\n",
              "      <td>808</td>\n",
              "      <td>ducking</td>\n",
              "      <td>dislike</td>\n",
              "      <td>124</td>\n",
              "      <td>-0.300000</td>\n",
              "      <td>-0.300000</td>\n",
              "      <td>negative</td>\n",
              "    </tr>\n",
              "    <tr>\n",
              "      <th>4</th>\n",
              "      <td>857</td>\n",
              "      <td>Ace - D2 news n stuff</td>\n",
              "      <td>one days twitter add dislike button youtube ge...</td>\n",
              "      <td>222</td>\n",
              "      <td>-0.300000</td>\n",
              "      <td>-0.300000</td>\n",
              "      <td>negative</td>\n",
              "    </tr>\n",
              "    <tr>\n",
              "      <th>...</th>\n",
              "      <td>...</td>\n",
              "      <td>...</td>\n",
              "      <td>...</td>\n",
              "      <td>...</td>\n",
              "      <td>...</td>\n",
              "      <td>...</td>\n",
              "      <td>...</td>\n",
              "    </tr>\n",
              "    <tr>\n",
              "      <th>94</th>\n",
              "      <td>2716</td>\n",
              "      <td>BATUHAN CANSIN ÖZER</td>\n",
              "      <td>bring back dislike counter without youtube fil...</td>\n",
              "      <td>119</td>\n",
              "      <td>-0.300000</td>\n",
              "      <td>-0.300000</td>\n",
              "      <td>negative</td>\n",
              "    </tr>\n",
              "    <tr>\n",
              "      <th>95</th>\n",
              "      <td>2719</td>\n",
              "      <td>Gaurav Sahu</td>\n",
              "      <td>gt talks balance gt removes dislike numbers ggwp</td>\n",
              "      <td>129</td>\n",
              "      <td>-0.300000</td>\n",
              "      <td>-0.300000</td>\n",
              "      <td>negative</td>\n",
              "    </tr>\n",
              "    <tr>\n",
              "      <th>96</th>\n",
              "      <td>2728</td>\n",
              "      <td>JoltzDude139</td>\n",
              "      <td>'m fan youtube hiding dislikes videos viewers ...</td>\n",
              "      <td>1071</td>\n",
              "      <td>-0.768182</td>\n",
              "      <td>0.353030</td>\n",
              "      <td>negative</td>\n",
              "    </tr>\n",
              "    <tr>\n",
              "      <th>97</th>\n",
              "      <td>2764</td>\n",
              "      <td>YouTube</td>\n",
              "      <td>let 's celebrate indigenous futures consider l...</td>\n",
              "      <td>1986</td>\n",
              "      <td>-0.300000</td>\n",
              "      <td>-0.300000</td>\n",
              "      <td>negative</td>\n",
              "    </tr>\n",
              "    <tr>\n",
              "      <th>98</th>\n",
              "      <td>2795</td>\n",
              "      <td>Viva Frei</td>\n",
              "      <td>best ratio ever seen perfectly illustrating fa...</td>\n",
              "      <td>9401</td>\n",
              "      <td>0.700000</td>\n",
              "      <td>0.350000</td>\n",
              "      <td>Positive</td>\n",
              "    </tr>\n",
              "  </tbody>\n",
              "</table>\n",
              "<p>99 rows × 7 columns</p>\n",
              "</div>"
            ],
            "text/plain": [
              "    Unnamed: 0               Username  ... subjectivity  Sentiment\n",
              "0          109           Greg Salazar  ...     0.388889   negative\n",
              "1          167        𝕹𝖎𝖈𝖍𝖔𝖑𝖆𝖘 𝕯𝖊𝕺𝖗𝖎𝖔  ...    -0.125000   negative\n",
              "2          198  Linus LinusMediaGroup  ...     0.033333   negative\n",
              "3          808                ducking  ...    -0.300000   negative\n",
              "4          857  Ace - D2 news n stuff  ...    -0.300000   negative\n",
              "..         ...                    ...  ...          ...        ...\n",
              "94        2716    BATUHAN CANSIN ÖZER  ...    -0.300000   negative\n",
              "95        2719            Gaurav Sahu  ...    -0.300000   negative\n",
              "96        2728           JoltzDude139  ...     0.353030   negative\n",
              "97        2764                YouTube  ...    -0.300000   negative\n",
              "98        2795              Viva Frei  ...     0.350000   Positive\n",
              "\n",
              "[99 rows x 7 columns]"
            ]
          },
          "metadata": {},
          "execution_count": 32
        }
      ]
    },
    {
      "cell_type": "code",
      "metadata": {
        "colab": {
          "base_uri": "https://localhost:8080/",
          "height": 523
        },
        "id": "MAXjTwK0ohPI",
        "outputId": "efd0e3b0-512a-4abd-fd32-f12da51a7168"
      },
      "source": [
        "plotDf = biggerTweets.loc[(biggerTweets['polarity'] > 0.1) | (biggerTweets['polarity'] < -0.1)]\n",
        "plt.rcParams['figure.figsize'] = [10, 8]\n",
        "\n",
        "for index, Tweet in enumerate(plotDf.index):\n",
        "    x = plotDf.polarity.loc[Tweet]\n",
        "    y = plotDf.subjectivity.loc[Tweet]\n",
        "    plt.scatter(x, y, color='blue')\n",
        "    plt.xlim(-1, 1.1) \n",
        "    \n",
        "plt.title('Most Liked tweets ', fontsize=20)\n",
        "plt.xlabel('<-- Negative -------- Positive -->', fontsize=15)\n",
        "plt.ylabel('<-- Facts -------- Opinions -->', fontsize=15)\n",
        "\n",
        "plt.show()"
      ],
      "execution_count": null,
      "outputs": [
        {
          "output_type": "display_data",
          "data": {
            "image/png": "[encoded data removed]",
            "text/plain": [
              "<Figure size 720x576 with 1 Axes>"
            ]
          },
          "metadata": {
            "needs_background": "light"
          }
        }
      ]
    },
    {
      "cell_type": "code",
      "metadata": {
        "colab": {
          "base_uri": "https://localhost:8080/",
          "height": 532
        },
        "id": "JhrkARvQqQ1J",
        "outputId": "257bd28d-940f-411b-a4cb-f6aaa8bc15e0"
      },
      "source": [
        "pd.set_option(\"display.max_colwidth\", -1)\n",
        "plotDf"
      ],
      "execution_count": null,
      "outputs": [
        {
          "output_type": "stream",
          "name": "stderr",
          "text": [
            "/usr/local/lib/python3.7/dist-packages/ipykernel_launcher.py:1: FutureWarning: Passing a negative integer is deprecated in version 1.0 and will not be supported in future version. Instead, use None to not limit the column width.\n",
            "  \"\"\"Entry point for launching an IPython kernel.\n"
          ]
        },
        {
          "output_type": "execute_result",
          "data": {
            "text/html": [
              "<div>\n",
              "<style scoped>\n",
              "    .dataframe tbody tr th:only-of-type {\n",
              "        vertical-align: middle;\n",
              "    }\n",
              "\n",
              "    .dataframe tbody tr th {\n",
              "        vertical-align: top;\n",
              "    }\n",
              "\n",
              "    .dataframe thead th {\n",
              "        text-align: right;\n",
              "    }\n",
              "</style>\n",
              "<table border=\"1\" class=\"dataframe\">\n",
              "  <thead>\n",
              "    <tr style=\"text-align: right;\">\n",
              "      <th></th>\n",
              "      <th>Unnamed: 0</th>\n",
              "      <th>Username</th>\n",
              "      <th>Tweet</th>\n",
              "      <th>Likes</th>\n",
              "      <th>polarity</th>\n",
              "      <th>subjectivity</th>\n",
              "      <th>Sentiment</th>\n",
              "    </tr>\n",
              "  </thead>\n",
              "  <tbody>\n",
              "    <tr>\n",
              "      <th>0</th>\n",
              "      <td>109</td>\n",
              "      <td>Greg Salazar</td>\n",
              "      <td>important note youtube 's ridiculous removal public 'dislike counter channel owners still se…</td>\n",
              "      <td>184</td>\n",
              "      <td>-0.277778</td>\n",
              "      <td>0.388889</td>\n",
              "      <td>negative</td>\n",
              "    </tr>\n",
              "    <tr>\n",
              "      <th>1</th>\n",
              "      <td>167</td>\n",
              "      <td>𝕹𝖎𝖈𝖍𝖔𝖑𝖆𝖘 𝕯𝖊𝕺𝖗𝖎𝖔</td>\n",
              "      <td>made whole google doc channel getting dislike botted could refer back future and…</td>\n",
              "      <td>181</td>\n",
              "      <td>-0.233333</td>\n",
              "      <td>-0.125000</td>\n",
              "      <td>negative</td>\n",
              "    </tr>\n",
              "    <tr>\n",
              "      <th>2</th>\n",
              "      <td>198</td>\n",
              "      <td>Linus LinusMediaGroup</td>\n",
              "      <td>empirical evidence 've seen negative comment better uploader 's menta…</td>\n",
              "      <td>188</td>\n",
              "      <td>-0.200000</td>\n",
              "      <td>0.033333</td>\n",
              "      <td>negative</td>\n",
              "    </tr>\n",
              "    <tr>\n",
              "      <th>3</th>\n",
              "      <td>808</td>\n",
              "      <td>ducking</td>\n",
              "      <td>dislike</td>\n",
              "      <td>124</td>\n",
              "      <td>-0.300000</td>\n",
              "      <td>-0.300000</td>\n",
              "      <td>negative</td>\n",
              "    </tr>\n",
              "    <tr>\n",
              "      <th>4</th>\n",
              "      <td>857</td>\n",
              "      <td>Ace - D2 news n stuff</td>\n",
              "      <td>one days twitter add dislike button youtube get ratio 'd dislikes every singl…</td>\n",
              "      <td>222</td>\n",
              "      <td>-0.300000</td>\n",
              "      <td>-0.300000</td>\n",
              "      <td>negative</td>\n",
              "    </tr>\n",
              "    <tr>\n",
              "      <th>...</th>\n",
              "      <td>...</td>\n",
              "      <td>...</td>\n",
              "      <td>...</td>\n",
              "      <td>...</td>\n",
              "      <td>...</td>\n",
              "      <td>...</td>\n",
              "      <td>...</td>\n",
              "    </tr>\n",
              "    <tr>\n",
              "      <th>94</th>\n",
              "      <td>2716</td>\n",
              "      <td>BATUHAN CANSIN ÖZER</td>\n",
              "      <td>bring back dislike counter without youtube filling scammers videos easly ever</td>\n",
              "      <td>119</td>\n",
              "      <td>-0.300000</td>\n",
              "      <td>-0.300000</td>\n",
              "      <td>negative</td>\n",
              "    </tr>\n",
              "    <tr>\n",
              "      <th>95</th>\n",
              "      <td>2719</td>\n",
              "      <td>Gaurav Sahu</td>\n",
              "      <td>gt talks balance gt removes dislike numbers ggwp</td>\n",
              "      <td>129</td>\n",
              "      <td>-0.300000</td>\n",
              "      <td>-0.300000</td>\n",
              "      <td>negative</td>\n",
              "    </tr>\n",
              "    <tr>\n",
              "      <th>96</th>\n",
              "      <td>2728</td>\n",
              "      <td>JoltzDude139</td>\n",
              "      <td>'m fan youtube hiding dislikes videos viewers way make every video look positive videos need ratings n't mislead bad movie terrible video game etc</td>\n",
              "      <td>1071</td>\n",
              "      <td>-0.768182</td>\n",
              "      <td>0.353030</td>\n",
              "      <td>negative</td>\n",
              "    </tr>\n",
              "    <tr>\n",
              "      <th>97</th>\n",
              "      <td>2764</td>\n",
              "      <td>YouTube</td>\n",
              "      <td>let 's celebrate indigenous futures consider learn history unthanksgiving</td>\n",
              "      <td>1986</td>\n",
              "      <td>-0.300000</td>\n",
              "      <td>-0.300000</td>\n",
              "      <td>negative</td>\n",
              "    </tr>\n",
              "    <tr>\n",
              "      <th>98</th>\n",
              "      <td>2795</td>\n",
              "      <td>Viva Frei</td>\n",
              "      <td>best ratio ever seen perfectly illustrating fact msm enemy people</td>\n",
              "      <td>9401</td>\n",
              "      <td>0.700000</td>\n",
              "      <td>0.350000</td>\n",
              "      <td>Positive</td>\n",
              "    </tr>\n",
              "  </tbody>\n",
              "</table>\n",
              "<p>95 rows × 7 columns</p>\n",
              "</div>"
            ],
            "text/plain": [
              "    Unnamed: 0               Username  ... subjectivity  Sentiment\n",
              "0   109         Greg Salazar           ...  0.388889     negative \n",
              "1   167         𝕹𝖎𝖈𝖍𝖔𝖑𝖆𝖘 𝕯𝖊𝕺𝖗𝖎𝖔        ... -0.125000     negative \n",
              "2   198         Linus LinusMediaGroup  ...  0.033333     negative \n",
              "3   808         ducking                ... -0.300000     negative \n",
              "4   857         Ace - D2 news n stuff  ... -0.300000     negative \n",
              "..  ...                           ...  ...       ...          ... \n",
              "94  2716        BATUHAN CANSIN ÖZER    ... -0.300000     negative \n",
              "95  2719        Gaurav Sahu            ... -0.300000     negative \n",
              "96  2728        JoltzDude139           ...  0.353030     negative \n",
              "97  2764        YouTube                ... -0.300000     negative \n",
              "98  2795        Viva Frei              ...  0.350000     Positive \n",
              "\n",
              "[95 rows x 7 columns]"
            ]
          },
          "metadata": {},
          "execution_count": 34
        }
      ]
    },
    {
      "cell_type": "code",
      "metadata": {
        "colab": {
          "base_uri": "https://localhost:8080/",
          "height": 597
        },
        "id": "hs5aH3Uiw7kx",
        "outputId": "61b80ccf-88bf-4328-f595-82b93a75b539"
      },
      "source": [
        "OldDf2['polarity'] = OldDf2['Tweet'].apply(lambda x: TextBlob(x).sentiment.polarity)\n",
        "OldDf2['subjectivity'] = OldDf2['Tweet'].apply(lambda x: TextBlob(x).sentiment.subjectivity)\n",
        "OldDf2['Sentiment'] = OldDf2['polarity'].apply(lambda x: evaluate(x))\n",
        "OldDf2"
      ],
      "execution_count": null,
      "outputs": [
        {
          "output_type": "execute_result",
          "data": {
            "text/html": [
              "<div>\n",
              "<style scoped>\n",
              "    .dataframe tbody tr th:only-of-type {\n",
              "        vertical-align: middle;\n",
              "    }\n",
              "\n",
              "    .dataframe tbody tr th {\n",
              "        vertical-align: top;\n",
              "    }\n",
              "\n",
              "    .dataframe thead th {\n",
              "        text-align: right;\n",
              "    }\n",
              "</style>\n",
              "<table border=\"1\" class=\"dataframe\">\n",
              "  <thead>\n",
              "    <tr style=\"text-align: right;\">\n",
              "      <th></th>\n",
              "      <th>Username</th>\n",
              "      <th>Tweet</th>\n",
              "      <th>Date</th>\n",
              "      <th>Likes</th>\n",
              "      <th>polarity</th>\n",
              "      <th>subjectivity</th>\n",
              "      <th>Sentiment</th>\n",
              "    </tr>\n",
              "  </thead>\n",
              "  <tbody>\n",
              "    <tr>\n",
              "      <th>0</th>\n",
              "      <td>Waikiki🌺</td>\n",
              "      <td>thinking starting youtube channel</td>\n",
              "      <td>2021-10-19</td>\n",
              "      <td>1</td>\n",
              "      <td>0.000000</td>\n",
              "      <td>0.100000</td>\n",
              "      <td>negative</td>\n",
              "    </tr>\n",
              "    <tr>\n",
              "      <th>1</th>\n",
              "      <td>𝚂𝚑𝚎𝚗 💫</td>\n",
              "      <td>ca n't lectures like informative youtube videos much attractive visuals plethora information ideas</td>\n",
              "      <td>2021-10-19</td>\n",
              "      <td>20</td>\n",
              "      <td>0.800000</td>\n",
              "      <td>1.000000</td>\n",
              "      <td>Positive</td>\n",
              "    </tr>\n",
              "    <tr>\n",
              "      <th>2</th>\n",
              "      <td>Krrazy JJ</td>\n",
              "      <td>juice honestly pass future youtube subscribers soon ... 2 mil away</td>\n",
              "      <td>2021-10-19</td>\n",
              "      <td>0</td>\n",
              "      <td>0.300000</td>\n",
              "      <td>0.512500</td>\n",
              "      <td>Positive</td>\n",
              "    </tr>\n",
              "    <tr>\n",
              "      <th>3</th>\n",
              "      <td>Alan Swanson</td>\n",
              "      <td>.AT_USER hey guys ’ gon na able watch show three weeks ’ every time try open youtube get blasted thousands eternal spoilers ’ even click anymore</td>\n",
              "      <td>2021-10-19</td>\n",
              "      <td>0</td>\n",
              "      <td>-0.033333</td>\n",
              "      <td>0.675000</td>\n",
              "      <td>negative</td>\n",
              "    </tr>\n",
              "    <tr>\n",
              "      <th>4</th>\n",
              "      <td>Splat</td>\n",
              "      <td>question youtube notify even uploaded video today</td>\n",
              "      <td>2021-10-19</td>\n",
              "      <td>0</td>\n",
              "      <td>0.000000</td>\n",
              "      <td>0.000000</td>\n",
              "      <td>negative</td>\n",
              "    </tr>\n",
              "    <tr>\n",
              "      <th>...</th>\n",
              "      <td>...</td>\n",
              "      <td>...</td>\n",
              "      <td>...</td>\n",
              "      <td>...</td>\n",
              "      <td>...</td>\n",
              "      <td>...</td>\n",
              "      <td>...</td>\n",
              "    </tr>\n",
              "    <tr>\n",
              "      <th>1988</th>\n",
              "      <td>RSN🐏</td>\n",
              "      <td>streaming feed ever stops click youtube channel link bio</td>\n",
              "      <td>2021-10-19</td>\n",
              "      <td>0</td>\n",
              "      <td>0.000000</td>\n",
              "      <td>0.000000</td>\n",
              "      <td>negative</td>\n",
              "    </tr>\n",
              "    <tr>\n",
              "      <th>1989</th>\n",
              "      <td>Xhep (reject donke return to Melira)</td>\n",
              "      <td>saw someone complain youtube 80s 90s better people nowadays `` crybabies get offended everything '' humanity always crybabies get offended everything internet 's made easier notice</td>\n",
              "      <td>2021-10-19</td>\n",
              "      <td>0</td>\n",
              "      <td>0.500000</td>\n",
              "      <td>0.500000</td>\n",
              "      <td>Positive</td>\n",
              "    </tr>\n",
              "    <tr>\n",
              "      <th>1990</th>\n",
              "      <td>Arren Baker</td>\n",
              "      <td>launching new youtube channel monday 25th october moment put video featuring tom baker scene revenge cybermen amazingly one subscriber already put details channel later week</td>\n",
              "      <td>2021-10-19</td>\n",
              "      <td>17</td>\n",
              "      <td>0.245455</td>\n",
              "      <td>0.451515</td>\n",
              "      <td>Positive</td>\n",
              "    </tr>\n",
              "    <tr>\n",
              "      <th>1991</th>\n",
              "      <td>I R M I L A Y</td>\n",
              "      <td>want camera youtube everyday life reign whew grinning face sweatloudly crying face</td>\n",
              "      <td>2021-10-19</td>\n",
              "      <td>1</td>\n",
              "      <td>-0.200000</td>\n",
              "      <td>0.600000</td>\n",
              "      <td>negative</td>\n",
              "    </tr>\n",
              "    <tr>\n",
              "      <th>1992</th>\n",
              "      <td>Kelly Houghton</td>\n",
              "      <td>start youtube channel</td>\n",
              "      <td>2021-10-19</td>\n",
              "      <td>4</td>\n",
              "      <td>0.000000</td>\n",
              "      <td>0.000000</td>\n",
              "      <td>negative</td>\n",
              "    </tr>\n",
              "  </tbody>\n",
              "</table>\n",
              "<p>1993 rows × 7 columns</p>\n",
              "</div>"
            ],
            "text/plain": [
              "                                  Username  ... Sentiment\n",
              "0     Waikiki🌺                              ...  negative\n",
              "1     𝚂𝚑𝚎𝚗 💫                                ...  Positive\n",
              "2     Krrazy JJ                             ...  Positive\n",
              "3     Alan Swanson                          ...  negative\n",
              "4     Splat                                 ...  negative\n",
              "...     ...                                 ...       ...\n",
              "1988  RSN🐏                                  ...  negative\n",
              "1989  Xhep (reject donke return to Melira)  ...  Positive\n",
              "1990  Arren Baker                           ...  Positive\n",
              "1991  I R M I L A Y                         ...  negative\n",
              "1992  Kelly Houghton                        ...  negative\n",
              "\n",
              "[1993 rows x 7 columns]"
            ]
          },
          "metadata": {},
          "execution_count": 339
        }
      ]
    },
    {
      "cell_type": "code",
      "metadata": {
        "colab": {
          "base_uri": "https://localhost:8080/"
        },
        "id": "sRLXQbniiD5v",
        "outputId": "76890ae1-6f0a-4f9f-cd93-7ec26ae5d9ed"
      },
      "source": [
        "OldDf2.Sentiment.value_counts()"
      ],
      "execution_count": null,
      "outputs": [
        {
          "output_type": "execute_result",
          "data": {
            "text/plain": [
              "negative    1117\n",
              "Positive    876 \n",
              "Name: Sentiment, dtype: int64"
            ]
          },
          "metadata": {},
          "execution_count": 340
        }
      ]
    },
    {
      "cell_type": "code",
      "metadata": {
        "colab": {
          "base_uri": "https://localhost:8080/",
          "height": 523
        },
        "id": "hf4jtYIsw7o9",
        "outputId": "a659b67b-f341-4437-e88b-5f9547519207"
      },
      "source": [
        "plotDf = OldDf2.loc[(OldDf2['polarity'] > 0.1) | (OldDf2['polarity'] < -0.1)]\n",
        "plt.rcParams['figure.figsize'] = [10, 8]\n",
        "\n",
        "for index, Tweet in enumerate(plotDf.index):\n",
        "  if index < 1000:\n",
        "    x = plotDf.polarity.loc[Tweet]\n",
        "    y = plotDf.subjectivity.loc[Tweet]\n",
        "    plt.scatter(x, y, color='blue')\n",
        "    plt.xlim(-1, 1.1) \n",
        "    \n",
        "plt.title('Before announcement', fontsize=20)\n",
        "plt.xlabel('<-- Negative -------- Positive -->', fontsize=15)\n",
        "plt.ylabel('<-- Facts -------- Opinions -->', fontsize=15)\n",
        "\n",
        "plt.show()"
      ],
      "execution_count": null,
      "outputs": [
        {
          "output_type": "display_data",
          "data": {
            "image/png": "[encoded data removed]",
            "text/plain": [
              "<Figure size 720x576 with 1 Axes>"
            ]
          },
          "metadata": {
            "needs_background": "light"
          }
        }
      ]
    },
    {
      "cell_type": "code",
      "metadata": {
        "colab": {
          "base_uri": "https://localhost:8080/",
          "height": 597
        },
        "id": "J8JQb5thw7tF",
        "outputId": "87a3fe69-0181-4998-9592-dc26a722e5e0"
      },
      "source": [
        "plotDf"
      ],
      "execution_count": null,
      "outputs": [
        {
          "output_type": "execute_result",
          "data": {
            "text/html": [
              "<div>\n",
              "<style scoped>\n",
              "    .dataframe tbody tr th:only-of-type {\n",
              "        vertical-align: middle;\n",
              "    }\n",
              "\n",
              "    .dataframe tbody tr th {\n",
              "        vertical-align: top;\n",
              "    }\n",
              "\n",
              "    .dataframe thead th {\n",
              "        text-align: right;\n",
              "    }\n",
              "</style>\n",
              "<table border=\"1\" class=\"dataframe\">\n",
              "  <thead>\n",
              "    <tr style=\"text-align: right;\">\n",
              "      <th></th>\n",
              "      <th>Username</th>\n",
              "      <th>Tweet</th>\n",
              "      <th>Date</th>\n",
              "      <th>Likes</th>\n",
              "      <th>polarity</th>\n",
              "      <th>subjectivity</th>\n",
              "      <th>Sentiment</th>\n",
              "    </tr>\n",
              "  </thead>\n",
              "  <tbody>\n",
              "    <tr>\n",
              "      <th>1</th>\n",
              "      <td>𝚂𝚑𝚎𝚗 💫</td>\n",
              "      <td>ca n't lectures like informative youtube videos much attractive visuals plethora information ideas</td>\n",
              "      <td>2021-10-19</td>\n",
              "      <td>20</td>\n",
              "      <td>0.800000</td>\n",
              "      <td>1.000000</td>\n",
              "      <td>Positive</td>\n",
              "    </tr>\n",
              "    <tr>\n",
              "      <th>2</th>\n",
              "      <td>Krrazy JJ</td>\n",
              "      <td>juice honestly pass future youtube subscribers soon ... 2 mil away</td>\n",
              "      <td>2021-10-19</td>\n",
              "      <td>0</td>\n",
              "      <td>0.300000</td>\n",
              "      <td>0.512500</td>\n",
              "      <td>Positive</td>\n",
              "    </tr>\n",
              "    <tr>\n",
              "      <th>5</th>\n",
              "      <td>Jennifer is...kinda back for football season</td>\n",
              "      <td>tues get ready impeachmentfx 10 letting time get away us youtube husband talks french pop-pop first probably 5 times week makes admit loving well played darling well played</td>\n",
              "      <td>2021-10-19</td>\n",
              "      <td>0</td>\n",
              "      <td>0.262500</td>\n",
              "      <td>0.445833</td>\n",
              "      <td>Positive</td>\n",
              "    </tr>\n",
              "    <tr>\n",
              "      <th>8</th>\n",
              "      <td>Franky</td>\n",
              "      <td>go live youtube twitch instagram facebook kanna korner still need followers host space twitter tho ...</td>\n",
              "      <td>2021-10-19</td>\n",
              "      <td>2</td>\n",
              "      <td>0.136364</td>\n",
              "      <td>0.500000</td>\n",
              "      <td>Positive</td>\n",
              "    </tr>\n",
              "    <tr>\n",
              "      <th>9</th>\n",
              "      <td>ZackK</td>\n",
              "      <td>new youtube video idea get dog dna test spit</td>\n",
              "      <td>2021-10-19</td>\n",
              "      <td>0</td>\n",
              "      <td>0.136364</td>\n",
              "      <td>0.454545</td>\n",
              "      <td>Positive</td>\n",
              "    </tr>\n",
              "    <tr>\n",
              "      <th>...</th>\n",
              "      <td>...</td>\n",
              "      <td>...</td>\n",
              "      <td>...</td>\n",
              "      <td>...</td>\n",
              "      <td>...</td>\n",
              "      <td>...</td>\n",
              "      <td>...</td>\n",
              "    </tr>\n",
              "    <tr>\n",
              "      <th>1986</th>\n",
              "      <td>Mary</td>\n",
              "      <td>title fight season 1 team youtube mercedes domination title fight season 1 team 'm simulating right ferrari red bull fight merc literally nowhere ...</td>\n",
              "      <td>2021-10-19</td>\n",
              "      <td>1</td>\n",
              "      <td>0.142857</td>\n",
              "      <td>0.267857</td>\n",
              "      <td>Positive</td>\n",
              "    </tr>\n",
              "    <tr>\n",
              "      <th>1987</th>\n",
              "      <td>luna. 🎄</td>\n",
              "      <td>dont even need go youtube watch best song ever ’ mv shit engraved brain play head whenever want</td>\n",
              "      <td>2021-10-19</td>\n",
              "      <td>2</td>\n",
              "      <td>0.400000</td>\n",
              "      <td>0.550000</td>\n",
              "      <td>Positive</td>\n",
              "    </tr>\n",
              "    <tr>\n",
              "      <th>1989</th>\n",
              "      <td>Xhep (reject donke return to Melira)</td>\n",
              "      <td>saw someone complain youtube 80s 90s better people nowadays `` crybabies get offended everything '' humanity always crybabies get offended everything internet 's made easier notice</td>\n",
              "      <td>2021-10-19</td>\n",
              "      <td>0</td>\n",
              "      <td>0.500000</td>\n",
              "      <td>0.500000</td>\n",
              "      <td>Positive</td>\n",
              "    </tr>\n",
              "    <tr>\n",
              "      <th>1990</th>\n",
              "      <td>Arren Baker</td>\n",
              "      <td>launching new youtube channel monday 25th october moment put video featuring tom baker scene revenge cybermen amazingly one subscriber already put details channel later week</td>\n",
              "      <td>2021-10-19</td>\n",
              "      <td>17</td>\n",
              "      <td>0.245455</td>\n",
              "      <td>0.451515</td>\n",
              "      <td>Positive</td>\n",
              "    </tr>\n",
              "    <tr>\n",
              "      <th>1991</th>\n",
              "      <td>I R M I L A Y</td>\n",
              "      <td>want camera youtube everyday life reign whew grinning face sweatloudly crying face</td>\n",
              "      <td>2021-10-19</td>\n",
              "      <td>1</td>\n",
              "      <td>-0.200000</td>\n",
              "      <td>0.600000</td>\n",
              "      <td>negative</td>\n",
              "    </tr>\n",
              "  </tbody>\n",
              "</table>\n",
              "<p>1027 rows × 7 columns</p>\n",
              "</div>"
            ],
            "text/plain": [
              "                                          Username  ... Sentiment\n",
              "1     𝚂𝚑𝚎𝚗 💫                                        ...  Positive\n",
              "2     Krrazy JJ                                     ...  Positive\n",
              "5     Jennifer is...kinda back for football season  ...  Positive\n",
              "8     Franky                                        ...  Positive\n",
              "9     ZackK                                         ...  Positive\n",
              "...     ...                                         ...       ...\n",
              "1986  Mary                                          ...  Positive\n",
              "1987  luna. 🎄                                       ...  Positive\n",
              "1989  Xhep (reject donke return to Melira)          ...  Positive\n",
              "1990  Arren Baker                                   ...  Positive\n",
              "1991  I R M I L A Y                                 ...  negative\n",
              "\n",
              "[1027 rows x 7 columns]"
            ]
          },
          "metadata": {},
          "execution_count": 342
        }
      ]
    },
    {
      "cell_type": "code",
      "metadata": {
        "colab": {
          "base_uri": "https://localhost:8080/",
          "height": 476
        },
        "id": "nBBHjS0Qw7vl",
        "outputId": "b87608b1-de12-43d7-b859-be0972d3314e"
      },
      "source": [
        "finalDF['polarity'] = finalDF['Tweet'].apply(lambda x: TextBlob(x).sentiment.polarity)\n",
        "finalDF['subjectivity'] = finalDF['Tweet'].apply(lambda x: TextBlob(x).sentiment.subjectivity)\n",
        "finalDF['Sentiment'] = finalDF['polarity'].apply(lambda x: evaluate(x))\n",
        "finalDF"
      ],
      "execution_count": null,
      "outputs": [
        {
          "output_type": "execute_result",
          "data": {
            "text/html": [
              "<div>\n",
              "<style scoped>\n",
              "    .dataframe tbody tr th:only-of-type {\n",
              "        vertical-align: middle;\n",
              "    }\n",
              "\n",
              "    .dataframe tbody tr th {\n",
              "        vertical-align: top;\n",
              "    }\n",
              "\n",
              "    .dataframe thead th {\n",
              "        text-align: right;\n",
              "    }\n",
              "</style>\n",
              "<table border=\"1\" class=\"dataframe\">\n",
              "  <thead>\n",
              "    <tr style=\"text-align: right;\">\n",
              "      <th></th>\n",
              "      <th>Unnamed: 0</th>\n",
              "      <th>Username</th>\n",
              "      <th>Tweet</th>\n",
              "      <th>Likes</th>\n",
              "      <th>polarity</th>\n",
              "      <th>subjectivity</th>\n",
              "      <th>Sentiment</th>\n",
              "    </tr>\n",
              "  </thead>\n",
              "  <tbody>\n",
              "    <tr>\n",
              "      <th>0</th>\n",
              "      <td>0</td>\n",
              "      <td>Avior</td>\n",
              "      <td>think youtube removed dislike button youtube rewind 2021 coming soon… youtube yuh</td>\n",
              "      <td>0</td>\n",
              "      <td>0.0000</td>\n",
              "      <td>0.000000</td>\n",
              "      <td>negative</td>\n",
              "    </tr>\n",
              "    <tr>\n",
              "      <th>1</th>\n",
              "      <td>1</td>\n",
              "      <td>Will I Ain’t</td>\n",
              "      <td>rt yes dislike counter meeting youtube zero ducks given concerns ones shared our…</td>\n",
              "      <td>0</td>\n",
              "      <td>0.0000</td>\n",
              "      <td>0.000000</td>\n",
              "      <td>negative</td>\n",
              "    </tr>\n",
              "    <tr>\n",
              "      <th>2</th>\n",
              "      <td>2</td>\n",
              "      <td>𝙃𝙊𝙊𝙆𝙎𝙃𝙊𝙏</td>\n",
              "      <td>dislike video</td>\n",
              "      <td>0</td>\n",
              "      <td>0.0000</td>\n",
              "      <td>0.000000</td>\n",
              "      <td>negative</td>\n",
              "    </tr>\n",
              "    <tr>\n",
              "      <th>3</th>\n",
              "      <td>3</td>\n",
              "      <td>Franco Contreras</td>\n",
              "      <td>fucked ... dislike count necessary</td>\n",
              "      <td>0</td>\n",
              "      <td>-0.3000</td>\n",
              "      <td>0.850000</td>\n",
              "      <td>negative</td>\n",
              "    </tr>\n",
              "    <tr>\n",
              "      <th>4</th>\n",
              "      <td>4</td>\n",
              "      <td>Gully</td>\n",
              "      <td>could higher position like/dislike buttons</td>\n",
              "      <td>0</td>\n",
              "      <td>0.2500</td>\n",
              "      <td>0.500000</td>\n",
              "      <td>Positive</td>\n",
              "    </tr>\n",
              "    <tr>\n",
              "      <th>...</th>\n",
              "      <td>...</td>\n",
              "      <td>...</td>\n",
              "      <td>...</td>\n",
              "      <td>...</td>\n",
              "      <td>...</td>\n",
              "      <td>...</td>\n",
              "      <td>...</td>\n",
              "    </tr>\n",
              "    <tr>\n",
              "      <th>2818</th>\n",
              "      <td>2818</td>\n",
              "      <td>benboy</td>\n",
              "      <td>let 's make standard practice leave pinned comment videos acts dislike counter liking comment dislike</td>\n",
              "      <td>28</td>\n",
              "      <td>0.0000</td>\n",
              "      <td>0.000000</td>\n",
              "      <td>negative</td>\n",
              "    </tr>\n",
              "    <tr>\n",
              "      <th>2819</th>\n",
              "      <td>2819</td>\n",
              "      <td>Anthony</td>\n",
              "      <td>need dislike button see whether review video bad ’ tell might using method ’ ineffective fuck youtube making pointless changes nothing hopefully change mind</td>\n",
              "      <td>3</td>\n",
              "      <td>-0.4500</td>\n",
              "      <td>0.588889</td>\n",
              "      <td>negative</td>\n",
              "    </tr>\n",
              "    <tr>\n",
              "      <th>2820</th>\n",
              "      <td>2820</td>\n",
              "      <td>Virgin</td>\n",
              "      <td>never really pressed dislike much fucking disgrace youtube gotten rid fuck greedy fucking cunt bags n't care `` harassment '' `` bullying '' care money</td>\n",
              "      <td>1</td>\n",
              "      <td>-0.4250</td>\n",
              "      <td>0.600000</td>\n",
              "      <td>negative</td>\n",
              "    </tr>\n",
              "    <tr>\n",
              "      <th>2821</th>\n",
              "      <td>2821</td>\n",
              "      <td>john</td>\n",
              "      <td>pro ethiopiaunity youtube channels like hak ena sak dere news esat fana amc addis media mereja today andafta key tube mehal mesa .. never experienced dislike thumbs tplf supporters z past days.very unusual coordinated silence.AT_USER tokichaw mehalmeda</td>\n",
              "      <td>0</td>\n",
              "      <td>-0.1125</td>\n",
              "      <td>0.787500</td>\n",
              "      <td>negative</td>\n",
              "    </tr>\n",
              "    <tr>\n",
              "      <th>2822</th>\n",
              "      <td>2822</td>\n",
              "      <td>🏳️‍🌈 Gay Stress Pumpkin 🏳️‍🌈</td>\n",
              "      <td>fuck stupid shorts quit things fuck platform bring back like/dislike ratio know tutorial informational video trash without go comments waste time watching double checking everything person says</td>\n",
              "      <td>4</td>\n",
              "      <td>-0.3000</td>\n",
              "      <td>0.366667</td>\n",
              "      <td>negative</td>\n",
              "    </tr>\n",
              "  </tbody>\n",
              "</table>\n",
              "<p>2823 rows × 7 columns</p>\n",
              "</div>"
            ],
            "text/plain": [
              "      Unnamed: 0                      Username  ... subjectivity  Sentiment\n",
              "0     0           Avior                         ...  0.000000     negative \n",
              "1     1           Will I Ain’t                  ...  0.000000     negative \n",
              "2     2           𝙃𝙊𝙊𝙆𝙎𝙃𝙊𝙏                      ...  0.000000     negative \n",
              "3     3           Franco Contreras              ...  0.850000     negative \n",
              "4     4           Gully                         ...  0.500000     Positive \n",
              "...  ..             ...                         ...       ...          ... \n",
              "2818  2818        benboy                        ...  0.000000     negative \n",
              "2819  2819        Anthony                       ...  0.588889     negative \n",
              "2820  2820        Virgin                        ...  0.600000     negative \n",
              "2821  2821        john                          ...  0.787500     negative \n",
              "2822  2822        🏳️‍🌈 Gay Stress Pumpkin 🏳️‍🌈  ...  0.366667     negative \n",
              "\n",
              "[2823 rows x 7 columns]"
            ]
          },
          "metadata": {},
          "execution_count": 343
        }
      ]
    },
    {
      "cell_type": "code",
      "metadata": {
        "colab": {
          "base_uri": "https://localhost:8080/",
          "height": 523
        },
        "id": "j_5kvGHwz86p",
        "outputId": "959960a8-c45a-49a1-de26-013e9895a348"
      },
      "source": [
        "plotDf = finalDF.loc[(finalDF['polarity'] > 0.3) | (finalDF['polarity'] < -0.1)]\n",
        "plt.rcParams['figure.figsize'] = [10, 8]\n",
        "\n",
        "for index, Tweet in enumerate(plotDf.index):\n",
        "  if index < 1000:\n",
        "    x = plotDf.polarity.loc[Tweet]\n",
        "    y = plotDf.subjectivity.loc[Tweet]\n",
        "    plt.scatter(x, y, color='blue')\n",
        "    #plt.text(x+.001, y+.001, index, fontsize=10)\n",
        "    plt.xlim(-1, 1.1) \n",
        "    \n",
        "plt.title('After announcement', fontsize=20)\n",
        "plt.xlabel('<-- Negative -------- Positive -->', fontsize=15)\n",
        "plt.ylabel('<-- Facts -------- Opinions -->', fontsize=15)\n",
        "\n",
        "plt.show()"
      ],
      "execution_count": null,
      "outputs": [
        {
          "output_type": "display_data",
          "data": {
            "image/png": "[encoded data removed]",
            "text/plain": [
              "<Figure size 720x576 with 1 Axes>"
            ]
          },
          "metadata": {
            "needs_background": "light"
          }
        }
      ]
    },
    {
      "cell_type": "code",
      "metadata": {
        "id": "ublz45CDz89K"
      },
      "source": [
        "a = finalDF.Sentiment.value_counts()\n",
        "a.Positive\n",
        "\n",
        "b = OldDf2.Sentiment.value_counts()"
      ],
      "execution_count": null,
      "outputs": []
    },
    {
      "cell_type": "code",
      "metadata": {
        "colab": {
          "base_uri": "https://localhost:8080/"
        },
        "id": "9qhE7Fxgwbys",
        "outputId": "89e576b0-179b-437e-d3e5-ebaac5d0842a"
      },
      "source": [
        "b"
      ],
      "execution_count": null,
      "outputs": [
        {
          "output_type": "execute_result",
          "data": {
            "text/plain": [
              "negative    1117\n",
              "Positive    876 \n",
              "Name: Sentiment, dtype: int64"
            ]
          },
          "metadata": {},
          "execution_count": 100
        }
      ]
    },
    {
      "cell_type": "code",
      "metadata": {
        "colab": {
          "base_uri": "https://localhost:8080/"
        },
        "id": "aOdd7Np8zcbp",
        "outputId": "fe455455-501c-443f-e723-c1ef4d6bdb5e"
      },
      "source": [
        "ap = np.array([b.negative,b.Positive,a.negative,a.Positive])\n",
        "ap"
      ],
      "execution_count": null,
      "outputs": [
        {
          "output_type": "execute_result",
          "data": {
            "text/plain": [
              "array([1117,  876, 2031,  792])"
            ]
          },
          "metadata": {},
          "execution_count": 134
        }
      ]
    },
    {
      "cell_type": "code",
      "metadata": {
        "colab": {
          "base_uri": "https://localhost:8080/",
          "height": 175
        },
        "id": "Y2PUQd0dzpgc",
        "outputId": "a58e98be-dc46-4c98-9388-f36496fb5df7"
      },
      "source": [
        "dataf= pd.DataFrame(ap, columns = ['Value'])\n",
        "dataf['class'] = ['Negative','Positive','Negative','Positive']\n",
        "dataf['Time'] = ['Before','Before','After','After']\n",
        "dataf"
      ],
      "execution_count": null,
      "outputs": [
        {
          "output_type": "execute_result",
          "data": {
            "text/html": [
              "<div>\n",
              "<style scoped>\n",
              "    .dataframe tbody tr th:only-of-type {\n",
              "        vertical-align: middle;\n",
              "    }\n",
              "\n",
              "    .dataframe tbody tr th {\n",
              "        vertical-align: top;\n",
              "    }\n",
              "\n",
              "    .dataframe thead th {\n",
              "        text-align: right;\n",
              "    }\n",
              "</style>\n",
              "<table border=\"1\" class=\"dataframe\">\n",
              "  <thead>\n",
              "    <tr style=\"text-align: right;\">\n",
              "      <th></th>\n",
              "      <th>Value</th>\n",
              "      <th>class</th>\n",
              "      <th>Time</th>\n",
              "    </tr>\n",
              "  </thead>\n",
              "  <tbody>\n",
              "    <tr>\n",
              "      <th>0</th>\n",
              "      <td>1117</td>\n",
              "      <td>Negative</td>\n",
              "      <td>Before</td>\n",
              "    </tr>\n",
              "    <tr>\n",
              "      <th>1</th>\n",
              "      <td>876</td>\n",
              "      <td>Positive</td>\n",
              "      <td>Before</td>\n",
              "    </tr>\n",
              "    <tr>\n",
              "      <th>2</th>\n",
              "      <td>2031</td>\n",
              "      <td>Negative</td>\n",
              "      <td>After</td>\n",
              "    </tr>\n",
              "    <tr>\n",
              "      <th>3</th>\n",
              "      <td>792</td>\n",
              "      <td>Positive</td>\n",
              "      <td>After</td>\n",
              "    </tr>\n",
              "  </tbody>\n",
              "</table>\n",
              "</div>"
            ],
            "text/plain": [
              "   Value     class    Time\n",
              "0  1117   Negative  Before\n",
              "1  876    Positive  Before\n",
              "2  2031   Negative  After \n",
              "3  792    Positive  After "
            ]
          },
          "metadata": {},
          "execution_count": 137
        }
      ]
    },
    {
      "cell_type": "code",
      "metadata": {
        "colab": {
          "base_uri": "https://localhost:8080/",
          "height": 515
        },
        "id": "Uf17Dgh2snCB",
        "outputId": "2f2d7566-9adf-42a7-a1d7-f17a22851a79"
      },
      "source": [
        "sns.barplot(data = dataf\n",
        "            ,x = 'Time'\n",
        "            ,y = 'Value'\n",
        "            ,hue = 'class'\n",
        "            ,ci = None\n",
        "            )"
      ],
      "execution_count": null,
      "outputs": [
        {
          "output_type": "execute_result",
          "data": {
            "text/plain": [
              "<matplotlib.axes._subplots.AxesSubplot at 0x7ff753de2250>"
            ]
          },
          "metadata": {},
          "execution_count": 138
        },
        {
          "output_type": "display_data",
          "data": {
            "image/png": "[encoded data removed]",
            "text/plain": [
              "<Figure size 720x576 with 1 Axes>"
            ]
          },
          "metadata": {
            "needs_background": "light"
          }
        }
      ]
    },
    {
      "cell_type": "code",
      "metadata": {
        "id": "NMhLfgu33IoV"
      },
      "source": [
        "#replace emoji"
      ],
      "execution_count": null,
      "outputs": []
    },
    {
      "cell_type": "code",
      "metadata": {
        "id": "9tpLrj601lVf"
      },
      "source": [
        "oldTweet = OldDf2\n",
        "newTweet = finalDF"
      ],
      "execution_count": null,
      "outputs": []
    },
    {
      "cell_type": "code",
      "metadata": {
        "colab": {
          "base_uri": "https://localhost:8080/",
          "height": 527
        },
        "id": "s01wrZXS3ymz",
        "outputId": "7cd4eea7-ee49-44a9-9b6e-15c8169b6a58"
      },
      "source": [
        "newTweet"
      ],
      "execution_count": null,
      "outputs": [
        {
          "output_type": "execute_result",
          "data": {
            "text/html": [
              "<div>\n",
              "<style scoped>\n",
              "    .dataframe tbody tr th:only-of-type {\n",
              "        vertical-align: middle;\n",
              "    }\n",
              "\n",
              "    .dataframe tbody tr th {\n",
              "        vertical-align: top;\n",
              "    }\n",
              "\n",
              "    .dataframe thead th {\n",
              "        text-align: right;\n",
              "    }\n",
              "</style>\n",
              "<table border=\"1\" class=\"dataframe\">\n",
              "  <thead>\n",
              "    <tr style=\"text-align: right;\">\n",
              "      <th></th>\n",
              "      <th>Unnamed: 0</th>\n",
              "      <th>Username</th>\n",
              "      <th>Tweet</th>\n",
              "      <th>Likes</th>\n",
              "    </tr>\n",
              "  </thead>\n",
              "  <tbody>\n",
              "    <tr>\n",
              "      <th>0</th>\n",
              "      <td>0</td>\n",
              "      <td>Avior</td>\n",
              "      <td>I think YouTube removed the dislike button because YouTube rewind 2021 is coming soon… :o #YouTube #yuh</td>\n",
              "      <td>0</td>\n",
              "    </tr>\n",
              "    <tr>\n",
              "      <th>1</th>\n",
              "      <td>1</td>\n",
              "      <td>Will I Ain’t</td>\n",
              "      <td>RT @linusgsebastian: Yes I had the dislike counter meeting with YouTube.\\n\\nZero ducks were given about my concerns or the ones shared by our…</td>\n",
              "      <td>0</td>\n",
              "    </tr>\n",
              "    <tr>\n",
              "      <th>2</th>\n",
              "      <td>2</td>\n",
              "      <td>𝙃𝙊𝙊𝙆𝙎𝙃𝙊𝙏</td>\n",
              "      <td>@YouTube Dislike. Not because of the video</td>\n",
              "      <td>0</td>\n",
              "    </tr>\n",
              "    <tr>\n",
              "      <th>3</th>\n",
              "      <td>3</td>\n",
              "      <td>Franco Contreras</td>\n",
              "      <td>@YouTube you fucked up... The dislike count is necessary!</td>\n",
              "      <td>0</td>\n",
              "    </tr>\n",
              "    <tr>\n",
              "      <th>4</th>\n",
              "      <td>4</td>\n",
              "      <td>Gully</td>\n",
              "      <td>@YouTube could you higher the position of the like/dislike buttons again?</td>\n",
              "      <td>0</td>\n",
              "    </tr>\n",
              "    <tr>\n",
              "      <th>...</th>\n",
              "      <td>...</td>\n",
              "      <td>...</td>\n",
              "      <td>...</td>\n",
              "      <td>...</td>\n",
              "    </tr>\n",
              "    <tr>\n",
              "      <th>2818</th>\n",
              "      <td>2818</td>\n",
              "      <td>benboy</td>\n",
              "      <td>@YouTube @HenrieVIII @misterjjosephs Let's make it standard practice to leave a pinned comment on videos that acts as the dislike counter. Liking the comment = dislike</td>\n",
              "      <td>28</td>\n",
              "    </tr>\n",
              "    <tr>\n",
              "      <th>2819</th>\n",
              "      <td>2819</td>\n",
              "      <td>Anthony</td>\n",
              "      <td>@rickyberwick @TeamYouTube I need the dislike button so I can see whether a review or a how to video is bad. Now I can’t tell and might be using a method that’s ineffective. Fuck YouTube for just making pointless changes that do nothing. Hopefully they change their mind</td>\n",
              "      <td>3</td>\n",
              "    </tr>\n",
              "    <tr>\n",
              "      <th>2820</th>\n",
              "      <td>2820</td>\n",
              "      <td>Virgin</td>\n",
              "      <td>I never really pressed dislike that much but its a fucking disgrace that youtube has gotten rid of it. Fuck you greedy fucking cunt bags @youtube you don't care about \"harassment\" or \"bullying\" all you care about is the money.</td>\n",
              "      <td>1</td>\n",
              "    </tr>\n",
              "    <tr>\n",
              "      <th>2821</th>\n",
              "      <td>2821</td>\n",
              "      <td>john</td>\n",
              "      <td>Pro 🇪🇹unity YouTube channels like, Hak ena sak,Dere news,ESAT,Fana, AMC,Addis media,Mereja today, Andafta,Key Tube, mehal Mesa,.. never experienced any dislike 👎 from Tplf supporters I z past few days.Very unusual! A coordinated silence.@Abe_tokichaw @mamamesay #mehalmeda</td>\n",
              "      <td>0</td>\n",
              "    </tr>\n",
              "    <tr>\n",
              "      <th>2822</th>\n",
              "      <td>2822</td>\n",
              "      <td>🏳️‍🌈 Gay Stress Pumpkin 🏳️‍🌈</td>\n",
              "      <td>@YouTube Fuck the stupid shorts, and quit doing things to fuck up your platform. Bring back the like/dislike ratio so I can know if a tutorial or informational video is trash without having to go through comments or waste my time watching it and double checking everything the person says.</td>\n",
              "      <td>4</td>\n",
              "    </tr>\n",
              "  </tbody>\n",
              "</table>\n",
              "<p>2823 rows × 4 columns</p>\n",
              "</div>"
            ],
            "text/plain": [
              "      Unnamed: 0  ... Likes\n",
              "0     0           ...  0   \n",
              "1     1           ...  0   \n",
              "2     2           ...  0   \n",
              "3     3           ...  0   \n",
              "4     4           ...  0   \n",
              "...  ..           ... ..   \n",
              "2818  2818        ...  28  \n",
              "2819  2819        ...  3   \n",
              "2820  2820        ...  1   \n",
              "2821  2821        ...  0   \n",
              "2822  2822        ...  4   \n",
              "\n",
              "[2823 rows x 4 columns]"
            ]
          },
          "metadata": {},
          "execution_count": 156
        }
      ]
    },
    {
      "cell_type": "code",
      "metadata": {
        "id": "sB142vk520aI"
      },
      "source": [
        "newTweet[\"Tweet\"] = newTweet[\"Tweet\"].apply(lambda x: emoji.demojize(x , delimiters=(\"\", \"\")).replace(\"_\", \" \"))"
      ],
      "execution_count": null,
      "outputs": []
    },
    {
      "cell_type": "code",
      "metadata": {
        "id": "zf-JQ4tS37Wx"
      },
      "source": [
        "oldTweet['Tweet'] = oldTweet['Tweet'].apply(clean_tweet)\n",
        "newTweet['Tweet'] = newTweet['Tweet'].apply(clean_tweet)"
      ],
      "execution_count": null,
      "outputs": []
    },
    {
      "cell_type": "code",
      "metadata": {
        "id": "_t8atJN24aOo"
      },
      "source": [
        "list(oldTweet['Tweet'])"
      ],
      "execution_count": null,
      "outputs": []
    },
    {
      "cell_type": "code",
      "metadata": {
        "id": "cb0P0FhYCnOM"
      },
      "source": [
        "from sklearn.feature_extraction.text import CountVectorizer\n",
        "\n",
        "count_vect = CountVectorizer( min_df=10, stop_words='english')\n",
        "doc_term_matrix = count_vect.fit_transform(newTweet['Tweet'])"
      ],
      "execution_count": null,
      "outputs": []
    },
    {
      "cell_type": "code",
      "metadata": {
        "colab": {
          "base_uri": "https://localhost:8080/"
        },
        "id": "j5CDpFwPHy2x",
        "outputId": "d798d382-76bb-4e59-85f0-ee8478258f6d"
      },
      "source": [
        "from sklearn.decomposition import TruncatedSVD\n",
        "svd= TruncatedSVD(n_components=1)\n",
        "lsa = svd.fit_transform(doc_term_matrix)\n",
        "print(len(lsa))"
      ],
      "execution_count": null,
      "outputs": [
        {
          "output_type": "stream",
          "name": "stdout",
          "text": [
            "2823\n"
          ]
        }
      ]
    },
    {
      "cell_type": "code",
      "metadata": {
        "colab": {
          "base_uri": "https://localhost:8080/",
          "height": 478
        },
        "id": "q-LTpGdxMbDE",
        "outputId": "d54f9ffa-2171-4121-f5ec-4bb03bacf134"
      },
      "source": [
        "encoding = pd.DataFrame(svd.components_, index=['topic1'], columns=count_vect.get_feature_names()).T\n",
        "encoding"
      ],
      "execution_count": null,
      "outputs": [
        {
          "output_type": "stream",
          "name": "stderr",
          "text": [
            "/usr/local/lib/python3.7/dist-packages/sklearn/utils/deprecation.py:87: FutureWarning: Function get_feature_names is deprecated; get_feature_names is deprecated in 1.0 and will be removed in 1.2. Please use get_feature_names_out instead.\n",
            "  warnings.warn(msg, category=FutureWarning)\n"
          ]
        },
        {
          "output_type": "execute_result",
          "data": {
            "text/html": [
              "<div>\n",
              "<style scoped>\n",
              "    .dataframe tbody tr th:only-of-type {\n",
              "        vertical-align: middle;\n",
              "    }\n",
              "\n",
              "    .dataframe tbody tr th {\n",
              "        vertical-align: top;\n",
              "    }\n",
              "\n",
              "    .dataframe thead th {\n",
              "        text-align: right;\n",
              "    }\n",
              "</style>\n",
              "<table border=\"1\" class=\"dataframe\">\n",
              "  <thead>\n",
              "    <tr style=\"text-align: right;\">\n",
              "      <th></th>\n",
              "      <th>topic1</th>\n",
              "    </tr>\n",
              "  </thead>\n",
              "  <tbody>\n",
              "    <tr>\n",
              "      <th>10</th>\n",
              "      <td>0.004576</td>\n",
              "    </tr>\n",
              "    <tr>\n",
              "      <th>2018</th>\n",
              "      <td>0.003529</td>\n",
              "    </tr>\n",
              "    <tr>\n",
              "      <th>2021</th>\n",
              "      <td>0.005260</td>\n",
              "    </tr>\n",
              "    <tr>\n",
              "      <th>ability</th>\n",
              "      <td>0.005282</td>\n",
              "    </tr>\n",
              "    <tr>\n",
              "      <th>able</th>\n",
              "      <td>0.008297</td>\n",
              "    </tr>\n",
              "    <tr>\n",
              "      <th>...</th>\n",
              "      <td>...</td>\n",
              "    </tr>\n",
              "    <tr>\n",
              "      <th>youtube</th>\n",
              "      <td>0.492264</td>\n",
              "    </tr>\n",
              "    <tr>\n",
              "      <th>youtubedislike</th>\n",
              "      <td>0.001696</td>\n",
              "    </tr>\n",
              "    <tr>\n",
              "      <th>youtuber</th>\n",
              "      <td>0.003429</td>\n",
              "    </tr>\n",
              "    <tr>\n",
              "      <th>youtubers</th>\n",
              "      <td>0.002965</td>\n",
              "    </tr>\n",
              "    <tr>\n",
              "      <th>yt</th>\n",
              "      <td>0.010830</td>\n",
              "    </tr>\n",
              "  </tbody>\n",
              "</table>\n",
              "<p>402 rows × 1 columns</p>\n",
              "</div>"
            ],
            "text/plain": [
              "                  topic1\n",
              "10              0.004576\n",
              "2018            0.003529\n",
              "2021            0.005260\n",
              "ability         0.005282\n",
              "able            0.008297\n",
              "...                  ...\n",
              "youtube         0.492264\n",
              "youtubedislike  0.001696\n",
              "youtuber        0.003429\n",
              "youtubers       0.002965\n",
              "yt              0.010830\n",
              "\n",
              "[402 rows x 1 columns]"
            ]
          },
          "metadata": {},
          "execution_count": 325
        }
      ]
    },
    {
      "cell_type": "code",
      "metadata": {
        "colab": {
          "base_uri": "https://localhost:8080/",
          "height": 1000
        },
        "id": "QJdhd7RrNLrq",
        "outputId": "cdfeaa60-df6a-4b6e-af8f-d2a4219ba3c1"
      },
      "source": [
        "\n",
        "encoding.sort_values('topic1', ascending=False).head(50)"
      ],
      "execution_count": null,
      "outputs": [
        {
          "output_type": "execute_result",
          "data": {
            "text/html": [
              "<div>\n",
              "<style scoped>\n",
              "    .dataframe tbody tr th:only-of-type {\n",
              "        vertical-align: middle;\n",
              "    }\n",
              "\n",
              "    .dataframe tbody tr th {\n",
              "        vertical-align: top;\n",
              "    }\n",
              "\n",
              "    .dataframe thead th {\n",
              "        text-align: right;\n",
              "    }\n",
              "</style>\n",
              "<table border=\"1\" class=\"dataframe\">\n",
              "  <thead>\n",
              "    <tr style=\"text-align: right;\">\n",
              "      <th></th>\n",
              "      <th>topic1</th>\n",
              "    </tr>\n",
              "  </thead>\n",
              "  <tbody>\n",
              "    <tr>\n",
              "      <th>dislike</th>\n",
              "      <td>0.745188</td>\n",
              "    </tr>\n",
              "    <tr>\n",
              "      <th>youtube</th>\n",
              "      <td>0.492264</td>\n",
              "    </tr>\n",
              "    <tr>\n",
              "      <th>button</th>\n",
              "      <td>0.301255</td>\n",
              "    </tr>\n",
              "    <tr>\n",
              "      <th>like</th>\n",
              "      <td>0.125085</td>\n",
              "    </tr>\n",
              "    <tr>\n",
              "      <th>count</th>\n",
              "      <td>0.118203</td>\n",
              "    </tr>\n",
              "    <tr>\n",
              "      <th>video</th>\n",
              "      <td>0.105036</td>\n",
              "    </tr>\n",
              "    <tr>\n",
              "      <th>removed</th>\n",
              "      <td>0.075549</td>\n",
              "    </tr>\n",
              "    <tr>\n",
              "      <th>bring</th>\n",
              "      <td>0.075392</td>\n",
              "    </tr>\n",
              "    <tr>\n",
              "      <th>removing</th>\n",
              "      <td>0.073136</td>\n",
              "    </tr>\n",
              "    <tr>\n",
              "      <th>videos</th>\n",
              "      <td>0.073100</td>\n",
              "    </tr>\n",
              "    <tr>\n",
              "      <th>counter</th>\n",
              "      <td>0.069024</td>\n",
              "    </tr>\n",
              "    <tr>\n",
              "      <th>dislikes</th>\n",
              "      <td>0.065711</td>\n",
              "    </tr>\n",
              "    <tr>\n",
              "      <th>face</th>\n",
              "      <td>0.057620</td>\n",
              "    </tr>\n",
              "    <tr>\n",
              "      <th>people</th>\n",
              "      <td>0.055807</td>\n",
              "    </tr>\n",
              "    <tr>\n",
              "      <th>ratio</th>\n",
              "      <td>0.045242</td>\n",
              "    </tr>\n",
              "    <tr>\n",
              "      <th>know</th>\n",
              "      <td>0.040195</td>\n",
              "    </tr>\n",
              "    <tr>\n",
              "      <th>remove</th>\n",
              "      <td>0.034695</td>\n",
              "    </tr>\n",
              "    <tr>\n",
              "      <th>time</th>\n",
              "      <td>0.032825</td>\n",
              "    </tr>\n",
              "    <tr>\n",
              "      <th>really</th>\n",
              "      <td>0.028722</td>\n",
              "    </tr>\n",
              "    <tr>\n",
              "      <th>removal</th>\n",
              "      <td>0.027830</td>\n",
              "    </tr>\n",
              "    <tr>\n",
              "      <th>bad</th>\n",
              "      <td>0.027181</td>\n",
              "    </tr>\n",
              "    <tr>\n",
              "      <th>rt</th>\n",
              "      <td>0.026750</td>\n",
              "    </tr>\n",
              "    <tr>\n",
              "      <th>creators</th>\n",
              "      <td>0.026694</td>\n",
              "    </tr>\n",
              "    <tr>\n",
              "      <th>good</th>\n",
              "      <td>0.026126</td>\n",
              "    </tr>\n",
              "    <tr>\n",
              "      <th>content</th>\n",
              "      <td>0.023897</td>\n",
              "    </tr>\n",
              "    <tr>\n",
              "      <th>counts</th>\n",
              "      <td>0.022751</td>\n",
              "    </tr>\n",
              "    <tr>\n",
              "      <th>think</th>\n",
              "      <td>0.022031</td>\n",
              "    </tr>\n",
              "    <tr>\n",
              "      <th>comments</th>\n",
              "      <td>0.021917</td>\n",
              "    </tr>\n",
              "    <tr>\n",
              "      <th>make</th>\n",
              "      <td>0.021372</td>\n",
              "    </tr>\n",
              "    <tr>\n",
              "      <th>amp</th>\n",
              "      <td>0.020819</td>\n",
              "    </tr>\n",
              "    <tr>\n",
              "      <th>gone</th>\n",
              "      <td>0.020668</td>\n",
              "    </tr>\n",
              "    <tr>\n",
              "      <th>use</th>\n",
              "      <td>0.020646</td>\n",
              "    </tr>\n",
              "    <tr>\n",
              "      <th>want</th>\n",
              "      <td>0.020583</td>\n",
              "    </tr>\n",
              "    <tr>\n",
              "      <th>rewind</th>\n",
              "      <td>0.020398</td>\n",
              "    </tr>\n",
              "    <tr>\n",
              "      <th>need</th>\n",
              "      <td>0.020263</td>\n",
              "    </tr>\n",
              "    <tr>\n",
              "      <th>way</th>\n",
              "      <td>0.019641</td>\n",
              "    </tr>\n",
              "    <tr>\n",
              "      <th>thing</th>\n",
              "      <td>0.018449</td>\n",
              "    </tr>\n",
              "    <tr>\n",
              "      <th>twitter</th>\n",
              "      <td>0.017950</td>\n",
              "    </tr>\n",
              "    <tr>\n",
              "      <th>got</th>\n",
              "      <td>0.017800</td>\n",
              "    </tr>\n",
              "    <tr>\n",
              "      <th>public</th>\n",
              "      <td>0.017771</td>\n",
              "    </tr>\n",
              "    <tr>\n",
              "      <th>watching</th>\n",
              "      <td>0.017759</td>\n",
              "    </tr>\n",
              "    <tr>\n",
              "      <th>getting</th>\n",
              "      <td>0.017409</td>\n",
              "    </tr>\n",
              "    <tr>\n",
              "      <th>away</th>\n",
              "      <td>0.017069</td>\n",
              "    </tr>\n",
              "    <tr>\n",
              "      <th>watch</th>\n",
              "      <td>0.017061</td>\n",
              "    </tr>\n",
              "    <tr>\n",
              "      <th>likes</th>\n",
              "      <td>0.016452</td>\n",
              "    </tr>\n",
              "    <tr>\n",
              "      <th>ca</th>\n",
              "      <td>0.016312</td>\n",
              "    </tr>\n",
              "    <tr>\n",
              "      <th>rid</th>\n",
              "      <td>0.015866</td>\n",
              "    </tr>\n",
              "    <tr>\n",
              "      <th>comment</th>\n",
              "      <td>0.015539</td>\n",
              "    </tr>\n",
              "    <tr>\n",
              "      <th>new</th>\n",
              "      <td>0.015261</td>\n",
              "    </tr>\n",
              "    <tr>\n",
              "      <th>reason</th>\n",
              "      <td>0.015155</td>\n",
              "    </tr>\n",
              "  </tbody>\n",
              "</table>\n",
              "</div>"
            ],
            "text/plain": [
              "            topic1\n",
              "dislike   0.745188\n",
              "youtube   0.492264\n",
              "button    0.301255\n",
              "like      0.125085\n",
              "count     0.118203\n",
              "video     0.105036\n",
              "removed   0.075549\n",
              "bring     0.075392\n",
              "removing  0.073136\n",
              "videos    0.073100\n",
              "counter   0.069024\n",
              "dislikes  0.065711\n",
              "face      0.057620\n",
              "people    0.055807\n",
              "ratio     0.045242\n",
              "know      0.040195\n",
              "remove    0.034695\n",
              "time      0.032825\n",
              "really    0.028722\n",
              "removal   0.027830\n",
              "bad       0.027181\n",
              "rt        0.026750\n",
              "creators  0.026694\n",
              "good      0.026126\n",
              "content   0.023897\n",
              "counts    0.022751\n",
              "think     0.022031\n",
              "comments  0.021917\n",
              "make      0.021372\n",
              "amp       0.020819\n",
              "gone      0.020668\n",
              "use       0.020646\n",
              "want      0.020583\n",
              "rewind    0.020398\n",
              "need      0.020263\n",
              "way       0.019641\n",
              "thing     0.018449\n",
              "twitter   0.017950\n",
              "got       0.017800\n",
              "public    0.017771\n",
              "watching  0.017759\n",
              "getting   0.017409\n",
              "away      0.017069\n",
              "watch     0.017061\n",
              "likes     0.016452\n",
              "ca        0.016312\n",
              "rid       0.015866\n",
              "comment   0.015539\n",
              "new       0.015261\n",
              "reason    0.015155"
            ]
          },
          "metadata": {},
          "execution_count": 326
        }
      ]
    },
    {
      "cell_type": "code",
      "metadata": {
        "id": "vSeduyY5PMoP"
      },
      "source": [
        "count_vect = CountVectorizer( min_df=10, stop_words='english')\n",
        "doc_term_matrix = count_vect.fit_transform(oldTweet['Tweet'])"
      ],
      "execution_count": null,
      "outputs": []
    },
    {
      "cell_type": "code",
      "metadata": {
        "colab": {
          "base_uri": "https://localhost:8080/"
        },
        "id": "-zgNUABhPMqf",
        "outputId": "d5730818-fdd1-4dad-ff07-e2160cb109ec"
      },
      "source": [
        "svd= TruncatedSVD(n_components=1)\n",
        "lsa = svd.fit_transform(doc_term_matrix)\n",
        "print(len(lsa))"
      ],
      "execution_count": null,
      "outputs": [
        {
          "output_type": "stream",
          "name": "stdout",
          "text": [
            "1993\n"
          ]
        }
      ]
    },
    {
      "cell_type": "code",
      "metadata": {
        "colab": {
          "base_uri": "https://localhost:8080/",
          "height": 478
        },
        "id": "qfqZhza0PMs2",
        "outputId": "63204f54-417a-4ec3-9cde-4b2e9c84dcda"
      },
      "source": [
        "encoding = pd.DataFrame(svd.components_, index=['topic1'], columns=count_vect.get_feature_names()).T\n",
        "encoding"
      ],
      "execution_count": null,
      "outputs": [
        {
          "output_type": "stream",
          "name": "stderr",
          "text": [
            "/usr/local/lib/python3.7/dist-packages/sklearn/utils/deprecation.py:87: FutureWarning: Function get_feature_names is deprecated; get_feature_names is deprecated in 1.0 and will be removed in 1.2. Please use get_feature_names_out instead.\n",
            "  warnings.warn(msg, category=FutureWarning)\n"
          ]
        },
        {
          "output_type": "execute_result",
          "data": {
            "text/html": [
              "<div>\n",
              "<style scoped>\n",
              "    .dataframe tbody tr th:only-of-type {\n",
              "        vertical-align: middle;\n",
              "    }\n",
              "\n",
              "    .dataframe tbody tr th {\n",
              "        vertical-align: top;\n",
              "    }\n",
              "\n",
              "    .dataframe thead th {\n",
              "        text-align: right;\n",
              "    }\n",
              "</style>\n",
              "<table border=\"1\" class=\"dataframe\">\n",
              "  <thead>\n",
              "    <tr style=\"text-align: right;\">\n",
              "      <th></th>\n",
              "      <th>topic1</th>\n",
              "    </tr>\n",
              "  </thead>\n",
              "  <tbody>\n",
              "    <tr>\n",
              "      <th>10</th>\n",
              "      <td>0.017439</td>\n",
              "    </tr>\n",
              "    <tr>\n",
              "      <th>100</th>\n",
              "      <td>0.007279</td>\n",
              "    </tr>\n",
              "    <tr>\n",
              "      <th>11</th>\n",
              "      <td>0.004654</td>\n",
              "    </tr>\n",
              "    <tr>\n",
              "      <th>12</th>\n",
              "      <td>0.006995</td>\n",
              "    </tr>\n",
              "    <tr>\n",
              "      <th>1k</th>\n",
              "      <td>0.004954</td>\n",
              "    </tr>\n",
              "    <tr>\n",
              "      <th>...</th>\n",
              "      <td>...</td>\n",
              "    </tr>\n",
              "    <tr>\n",
              "      <th>years</th>\n",
              "      <td>0.014874</td>\n",
              "    </tr>\n",
              "    <tr>\n",
              "      <th>yes</th>\n",
              "      <td>0.005445</td>\n",
              "    </tr>\n",
              "    <tr>\n",
              "      <th>youtube</th>\n",
              "      <td>0.917137</td>\n",
              "    </tr>\n",
              "    <tr>\n",
              "      <th>youtuber</th>\n",
              "      <td>0.008017</td>\n",
              "    </tr>\n",
              "    <tr>\n",
              "      <th>yt</th>\n",
              "      <td>0.007788</td>\n",
              "    </tr>\n",
              "  </tbody>\n",
              "</table>\n",
              "<p>376 rows × 1 columns</p>\n",
              "</div>"
            ],
            "text/plain": [
              "            topic1\n",
              "10        0.017439\n",
              "100       0.007279\n",
              "11        0.004654\n",
              "12        0.006995\n",
              "1k        0.004954\n",
              "...            ...\n",
              "years     0.014874\n",
              "yes       0.005445\n",
              "youtube   0.917137\n",
              "youtuber  0.008017\n",
              "yt        0.007788\n",
              "\n",
              "[376 rows x 1 columns]"
            ]
          },
          "metadata": {},
          "execution_count": 329
        }
      ]
    },
    {
      "cell_type": "code",
      "metadata": {
        "colab": {
          "base_uri": "https://localhost:8080/",
          "height": 1000
        },
        "id": "jMQUAVTDPMvO",
        "outputId": "b853613d-ebbe-48e7-c986-e1113dfecc63"
      },
      "source": [
        "\n",
        "encoding.sort_values('topic1', ascending=False).head(50)"
      ],
      "execution_count": null,
      "outputs": [
        {
          "output_type": "execute_result",
          "data": {
            "text/html": [
              "<div>\n",
              "<style scoped>\n",
              "    .dataframe tbody tr th:only-of-type {\n",
              "        vertical-align: middle;\n",
              "    }\n",
              "\n",
              "    .dataframe tbody tr th {\n",
              "        vertical-align: top;\n",
              "    }\n",
              "\n",
              "    .dataframe thead th {\n",
              "        text-align: right;\n",
              "    }\n",
              "</style>\n",
              "<table border=\"1\" class=\"dataframe\">\n",
              "  <thead>\n",
              "    <tr style=\"text-align: right;\">\n",
              "      <th></th>\n",
              "      <th>topic1</th>\n",
              "    </tr>\n",
              "  </thead>\n",
              "  <tbody>\n",
              "    <tr>\n",
              "      <th>youtube</th>\n",
              "      <td>0.917137</td>\n",
              "    </tr>\n",
              "    <tr>\n",
              "      <th>videos</th>\n",
              "      <td>0.126274</td>\n",
              "    </tr>\n",
              "    <tr>\n",
              "      <th>video</th>\n",
              "      <td>0.124454</td>\n",
              "    </tr>\n",
              "    <tr>\n",
              "      <th>like</th>\n",
              "      <td>0.113168</td>\n",
              "    </tr>\n",
              "    <tr>\n",
              "      <th>face</th>\n",
              "      <td>0.106552</td>\n",
              "    </tr>\n",
              "    <tr>\n",
              "      <th>watch</th>\n",
              "      <td>0.089011</td>\n",
              "    </tr>\n",
              "    <tr>\n",
              "      <th>watching</th>\n",
              "      <td>0.086784</td>\n",
              "    </tr>\n",
              "    <tr>\n",
              "      <th>channel</th>\n",
              "      <td>0.080642</td>\n",
              "    </tr>\n",
              "    <tr>\n",
              "      <th>tears</th>\n",
              "      <td>0.066024</td>\n",
              "    </tr>\n",
              "    <tr>\n",
              "      <th>new</th>\n",
              "      <td>0.061589</td>\n",
              "    </tr>\n",
              "    <tr>\n",
              "      <th>time</th>\n",
              "      <td>0.060114</td>\n",
              "    </tr>\n",
              "    <tr>\n",
              "      <th>people</th>\n",
              "      <td>0.051736</td>\n",
              "    </tr>\n",
              "    <tr>\n",
              "      <th>series</th>\n",
              "      <td>0.050439</td>\n",
              "    </tr>\n",
              "    <tr>\n",
              "      <th>na</th>\n",
              "      <td>0.045625</td>\n",
              "    </tr>\n",
              "    <tr>\n",
              "      <th>know</th>\n",
              "      <td>0.042799</td>\n",
              "    </tr>\n",
              "    <tr>\n",
              "      <th>make</th>\n",
              "      <td>0.040632</td>\n",
              "    </tr>\n",
              "    <tr>\n",
              "      <th>love</th>\n",
              "      <td>0.040594</td>\n",
              "    </tr>\n",
              "    <tr>\n",
              "      <th>music</th>\n",
              "      <td>0.039628</td>\n",
              "    </tr>\n",
              "    <tr>\n",
              "      <th>content</th>\n",
              "      <td>0.038841</td>\n",
              "    </tr>\n",
              "    <tr>\n",
              "      <th>joyface</th>\n",
              "      <td>0.038036</td>\n",
              "    </tr>\n",
              "    <tr>\n",
              "      <th>crying</th>\n",
              "      <td>0.037640</td>\n",
              "    </tr>\n",
              "    <tr>\n",
              "      <th>want</th>\n",
              "      <td>0.037521</td>\n",
              "    </tr>\n",
              "    <tr>\n",
              "      <th>got</th>\n",
              "      <td>0.036910</td>\n",
              "    </tr>\n",
              "    <tr>\n",
              "      <th>live</th>\n",
              "      <td>0.036518</td>\n",
              "    </tr>\n",
              "    <tr>\n",
              "      <th>really</th>\n",
              "      <td>0.035950</td>\n",
              "    </tr>\n",
              "    <tr>\n",
              "      <th>going</th>\n",
              "      <td>0.035249</td>\n",
              "    </tr>\n",
              "    <tr>\n",
              "      <th>need</th>\n",
              "      <td>0.034534</td>\n",
              "    </tr>\n",
              "    <tr>\n",
              "      <th>gon</th>\n",
              "      <td>0.033678</td>\n",
              "    </tr>\n",
              "    <tr>\n",
              "      <th>stream</th>\n",
              "      <td>0.031779</td>\n",
              "    </tr>\n",
              "    <tr>\n",
              "      <th>amp</th>\n",
              "      <td>0.028373</td>\n",
              "    </tr>\n",
              "    <tr>\n",
              "      <th>today</th>\n",
              "      <td>0.027849</td>\n",
              "    </tr>\n",
              "    <tr>\n",
              "      <th>soon</th>\n",
              "      <td>0.027276</td>\n",
              "    </tr>\n",
              "    <tr>\n",
              "      <th>joy</th>\n",
              "      <td>0.025336</td>\n",
              "    </tr>\n",
              "    <tr>\n",
              "      <th>start</th>\n",
              "      <td>0.025139</td>\n",
              "    </tr>\n",
              "    <tr>\n",
              "      <th>shit</th>\n",
              "      <td>0.024470</td>\n",
              "    </tr>\n",
              "    <tr>\n",
              "      <th>think</th>\n",
              "      <td>0.024351</td>\n",
              "    </tr>\n",
              "    <tr>\n",
              "      <th>twitter</th>\n",
              "      <td>0.024216</td>\n",
              "    </tr>\n",
              "    <tr>\n",
              "      <th>streaming</th>\n",
              "      <td>0.024216</td>\n",
              "    </tr>\n",
              "    <tr>\n",
              "      <th>guys</th>\n",
              "      <td>0.024138</td>\n",
              "    </tr>\n",
              "    <tr>\n",
              "      <th>views</th>\n",
              "      <td>0.023781</td>\n",
              "    </tr>\n",
              "    <tr>\n",
              "      <th>tv</th>\n",
              "      <td>0.023715</td>\n",
              "    </tr>\n",
              "    <tr>\n",
              "      <th>heart</th>\n",
              "      <td>0.023578</td>\n",
              "    </tr>\n",
              "    <tr>\n",
              "      <th>good</th>\n",
              "      <td>0.023164</td>\n",
              "    </tr>\n",
              "    <tr>\n",
              "      <th>ads</th>\n",
              "      <td>0.023059</td>\n",
              "    </tr>\n",
              "    <tr>\n",
              "      <th>twitch</th>\n",
              "      <td>0.022397</td>\n",
              "    </tr>\n",
              "    <tr>\n",
              "      <th>day</th>\n",
              "      <td>0.021906</td>\n",
              "    </tr>\n",
              "    <tr>\n",
              "      <th>getting</th>\n",
              "      <td>0.021824</td>\n",
              "    </tr>\n",
              "    <tr>\n",
              "      <th>feel</th>\n",
              "      <td>0.020193</td>\n",
              "    </tr>\n",
              "    <tr>\n",
              "      <th>ve</th>\n",
              "      <td>0.020182</td>\n",
              "    </tr>\n",
              "    <tr>\n",
              "      <th>making</th>\n",
              "      <td>0.020003</td>\n",
              "    </tr>\n",
              "  </tbody>\n",
              "</table>\n",
              "</div>"
            ],
            "text/plain": [
              "             topic1\n",
              "youtube    0.917137\n",
              "videos     0.126274\n",
              "video      0.124454\n",
              "like       0.113168\n",
              "face       0.106552\n",
              "watch      0.089011\n",
              "watching   0.086784\n",
              "channel    0.080642\n",
              "tears      0.066024\n",
              "new        0.061589\n",
              "time       0.060114\n",
              "people     0.051736\n",
              "series     0.050439\n",
              "na         0.045625\n",
              "know       0.042799\n",
              "make       0.040632\n",
              "love       0.040594\n",
              "music      0.039628\n",
              "content    0.038841\n",
              "joyface    0.038036\n",
              "crying     0.037640\n",
              "want       0.037521\n",
              "got        0.036910\n",
              "live       0.036518\n",
              "really     0.035950\n",
              "going      0.035249\n",
              "need       0.034534\n",
              "gon        0.033678\n",
              "stream     0.031779\n",
              "amp        0.028373\n",
              "today      0.027849\n",
              "soon       0.027276\n",
              "joy        0.025336\n",
              "start      0.025139\n",
              "shit       0.024470\n",
              "think      0.024351\n",
              "twitter    0.024216\n",
              "streaming  0.024216\n",
              "guys       0.024138\n",
              "views      0.023781\n",
              "tv         0.023715\n",
              "heart      0.023578\n",
              "good       0.023164\n",
              "ads        0.023059\n",
              "twitch     0.022397\n",
              "day        0.021906\n",
              "getting    0.021824\n",
              "feel       0.020193\n",
              "ve         0.020182\n",
              "making     0.020003"
            ]
          },
          "metadata": {},
          "execution_count": 334
        }
      ]
    },
    {
      "cell_type": "code",
      "metadata": {
        "id": "pN2nLVN7Waec"
      },
      "source": [
        "from wordcloud import WordCloud, STOPWORDS, ImageColorGenerator"
      ],
      "execution_count": null,
      "outputs": []
    },
    {
      "cell_type": "code",
      "metadata": {
        "colab": {
          "base_uri": "https://localhost:8080/",
          "height": 310
        },
        "id": "nx3ceWyBWeC0",
        "outputId": "28cbba63-84aa-4681-8f48-01b374dce9ee"
      },
      "source": [
        "\n",
        "\n",
        "# Create and generate a word cloud image:\n",
        "text = encoding.sort_values('topic1', ascending=False).head(50).index\n",
        "wordcloud = WordCloud().generate(str(text))\n",
        "\n",
        "# Display the generated image:\n",
        "plt.imshow(wordcloud, interpolation='bilinear')\n",
        "plt.axis(\"off\")\n",
        "plt.show()"
      ],
      "execution_count": null,
      "outputs": [
        {
          "output_type": "display_data",
          "data": {
            "image/png": "[encoded data removed]",
            "text/plain": [
              "<Figure size 720x576 with 1 Axes>"
            ]
          },
          "metadata": {
            "needs_background": "light"
          }
        }
      ]
    },
    {
      "cell_type": "code",
      "metadata": {
        "colab": {
          "base_uri": "https://localhost:8080/",
          "height": 310
        },
        "id": "YFjeYq2_W_xL",
        "outputId": "235b5cc4-7aa6-467a-9e3a-55bd4207f1b6"
      },
      "source": [
        "# Create and generate a word cloud image:\n",
        "text = encoding.sort_values('topic1', ascending=False).head(50).index\n",
        "wordcloud = WordCloud().generate(str(text))\n",
        "\n",
        "# Display the generated image:\n",
        "plt.imshow(wordcloud, interpolation='bilinear')\n",
        "plt.axis(\"off\")\n",
        "plt.show()"
      ],
      "execution_count": null,
      "outputs": [
        {
          "output_type": "display_data",
          "data": {
            "image/png": "[encoded data removed]",
            "text/plain": [
              "<Figure size 720x576 with 1 Axes>"
            ]
          },
          "metadata": {
            "needs_background": "light"
          }
        }
      ]
    }
  ]
}